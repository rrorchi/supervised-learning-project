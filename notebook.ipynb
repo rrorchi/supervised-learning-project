{
 "cells": [
  {
   "cell_type": "markdown",
   "metadata": {},
   "source": [
    "# Отток клиентов"
   ]
  },
  {
   "cell_type": "markdown",
   "metadata": {},
   "source": [
    "## Подготовка данных"
   ]
  },
  {
   "cell_type": "code",
   "execution_count": 1,
   "metadata": {},
   "outputs": [],
   "source": [
    "import pandas as pd\n",
    "pd.options.mode.chained_assignment = None\n",
    "\n",
    "from sklearn.preprocessing import OrdinalEncoder, StandardScaler\n",
    "from sklearn.model_selection import train_test_split\n",
    "from sklearn.utils import shuffle\n",
    "\n",
    "from sklearn.tree import DecisionTreeClassifier\n",
    "from sklearn.ensemble import RandomForestClassifier\n",
    "from sklearn.linear_model import LogisticRegression\n",
    "\n",
    "from sklearn.metrics import f1_score, roc_auc_score\n",
    "\n",
    "import matplotlib.pyplot as plt\n",
    "from sklearn.metrics import roc_curve, confusion_matrix, ConfusionMatrixDisplay"
   ]
  },
  {
   "cell_type": "code",
   "execution_count": 2,
   "metadata": {},
   "outputs": [
    {
     "data": {
      "text/html": [
       "<div>\n",
       "<style scoped>\n",
       "    .dataframe tbody tr th:only-of-type {\n",
       "        vertical-align: middle;\n",
       "    }\n",
       "\n",
       "    .dataframe tbody tr th {\n",
       "        vertical-align: top;\n",
       "    }\n",
       "\n",
       "    .dataframe thead th {\n",
       "        text-align: right;\n",
       "    }\n",
       "</style>\n",
       "<table border=\"1\" class=\"dataframe\">\n",
       "  <thead>\n",
       "    <tr style=\"text-align: right;\">\n",
       "      <th></th>\n",
       "      <th>RowNumber</th>\n",
       "      <th>CustomerId</th>\n",
       "      <th>Surname</th>\n",
       "      <th>CreditScore</th>\n",
       "      <th>Geography</th>\n",
       "      <th>Gender</th>\n",
       "      <th>Age</th>\n",
       "      <th>Tenure</th>\n",
       "      <th>Balance</th>\n",
       "      <th>NumOfProducts</th>\n",
       "      <th>HasCrCard</th>\n",
       "      <th>IsActiveMember</th>\n",
       "      <th>EstimatedSalary</th>\n",
       "      <th>Exited</th>\n",
       "    </tr>\n",
       "  </thead>\n",
       "  <tbody>\n",
       "    <tr>\n",
       "      <th>0</th>\n",
       "      <td>1</td>\n",
       "      <td>15634602</td>\n",
       "      <td>Hargrave</td>\n",
       "      <td>619</td>\n",
       "      <td>France</td>\n",
       "      <td>Female</td>\n",
       "      <td>42</td>\n",
       "      <td>2.0</td>\n",
       "      <td>0.00</td>\n",
       "      <td>1</td>\n",
       "      <td>1</td>\n",
       "      <td>1</td>\n",
       "      <td>101348.88</td>\n",
       "      <td>1</td>\n",
       "    </tr>\n",
       "    <tr>\n",
       "      <th>1</th>\n",
       "      <td>2</td>\n",
       "      <td>15647311</td>\n",
       "      <td>Hill</td>\n",
       "      <td>608</td>\n",
       "      <td>Spain</td>\n",
       "      <td>Female</td>\n",
       "      <td>41</td>\n",
       "      <td>1.0</td>\n",
       "      <td>83807.86</td>\n",
       "      <td>1</td>\n",
       "      <td>0</td>\n",
       "      <td>1</td>\n",
       "      <td>112542.58</td>\n",
       "      <td>0</td>\n",
       "    </tr>\n",
       "    <tr>\n",
       "      <th>2</th>\n",
       "      <td>3</td>\n",
       "      <td>15619304</td>\n",
       "      <td>Onio</td>\n",
       "      <td>502</td>\n",
       "      <td>France</td>\n",
       "      <td>Female</td>\n",
       "      <td>42</td>\n",
       "      <td>8.0</td>\n",
       "      <td>159660.80</td>\n",
       "      <td>3</td>\n",
       "      <td>1</td>\n",
       "      <td>0</td>\n",
       "      <td>113931.57</td>\n",
       "      <td>1</td>\n",
       "    </tr>\n",
       "    <tr>\n",
       "      <th>3</th>\n",
       "      <td>4</td>\n",
       "      <td>15701354</td>\n",
       "      <td>Boni</td>\n",
       "      <td>699</td>\n",
       "      <td>France</td>\n",
       "      <td>Female</td>\n",
       "      <td>39</td>\n",
       "      <td>1.0</td>\n",
       "      <td>0.00</td>\n",
       "      <td>2</td>\n",
       "      <td>0</td>\n",
       "      <td>0</td>\n",
       "      <td>93826.63</td>\n",
       "      <td>0</td>\n",
       "    </tr>\n",
       "    <tr>\n",
       "      <th>4</th>\n",
       "      <td>5</td>\n",
       "      <td>15737888</td>\n",
       "      <td>Mitchell</td>\n",
       "      <td>850</td>\n",
       "      <td>Spain</td>\n",
       "      <td>Female</td>\n",
       "      <td>43</td>\n",
       "      <td>2.0</td>\n",
       "      <td>125510.82</td>\n",
       "      <td>1</td>\n",
       "      <td>1</td>\n",
       "      <td>1</td>\n",
       "      <td>79084.10</td>\n",
       "      <td>0</td>\n",
       "    </tr>\n",
       "  </tbody>\n",
       "</table>\n",
       "</div>"
      ],
      "text/plain": [
       "   RowNumber  CustomerId   Surname  CreditScore Geography  Gender  Age  \\\n",
       "0          1    15634602  Hargrave          619    France  Female   42   \n",
       "1          2    15647311      Hill          608     Spain  Female   41   \n",
       "2          3    15619304      Onio          502    France  Female   42   \n",
       "3          4    15701354      Boni          699    France  Female   39   \n",
       "4          5    15737888  Mitchell          850     Spain  Female   43   \n",
       "\n",
       "   Tenure    Balance  NumOfProducts  HasCrCard  IsActiveMember  \\\n",
       "0     2.0       0.00              1          1               1   \n",
       "1     1.0   83807.86              1          0               1   \n",
       "2     8.0  159660.80              3          1               0   \n",
       "3     1.0       0.00              2          0               0   \n",
       "4     2.0  125510.82              1          1               1   \n",
       "\n",
       "   EstimatedSalary  Exited  \n",
       "0        101348.88       1  \n",
       "1        112542.58       0  \n",
       "2        113931.57       1  \n",
       "3         93826.63       0  \n",
       "4         79084.10       0  "
      ]
     },
     "execution_count": 2,
     "metadata": {},
     "output_type": "execute_result"
    }
   ],
   "source": [
    "data = pd.read_csv('https://code.s3.yandex.net/datasets/Churn.csv')\n",
    "data.head()"
   ]
  },
  {
   "cell_type": "markdown",
   "metadata": {},
   "source": [
    "В таблице Churn находятся данные о клиентах банка и их взаимодействии с банком. Целевой признак - столбец Exited."
   ]
  },
  {
   "cell_type": "code",
   "execution_count": 3,
   "metadata": {},
   "outputs": [
    {
     "name": "stdout",
     "output_type": "stream",
     "text": [
      "<class 'pandas.core.frame.DataFrame'>\n",
      "RangeIndex: 10000 entries, 0 to 9999\n",
      "Data columns (total 14 columns):\n",
      " #   Column           Non-Null Count  Dtype  \n",
      "---  ------           --------------  -----  \n",
      " 0   RowNumber        10000 non-null  int64  \n",
      " 1   CustomerId       10000 non-null  int64  \n",
      " 2   Surname          10000 non-null  object \n",
      " 3   CreditScore      10000 non-null  int64  \n",
      " 4   Geography        10000 non-null  object \n",
      " 5   Gender           10000 non-null  object \n",
      " 6   Age              10000 non-null  int64  \n",
      " 7   Tenure           9091 non-null   float64\n",
      " 8   Balance          10000 non-null  float64\n",
      " 9   NumOfProducts    10000 non-null  int64  \n",
      " 10  HasCrCard        10000 non-null  int64  \n",
      " 11  IsActiveMember   10000 non-null  int64  \n",
      " 12  EstimatedSalary  10000 non-null  float64\n",
      " 13  Exited           10000 non-null  int64  \n",
      "dtypes: float64(3), int64(8), object(3)\n",
      "memory usage: 1.1+ MB\n",
      "None\n",
      "0\n",
      "['France' 'Spain' 'Germany']\n",
      "['Female' 'Male']\n",
      "RowNumber                 1.00\n",
      "CustomerId         15565701.00\n",
      "CreditScore             350.00\n",
      "Age                      18.00\n",
      "Tenure                    0.00\n",
      "Balance                   0.00\n",
      "NumOfProducts             1.00\n",
      "HasCrCard                 0.00\n",
      "IsActiveMember            0.00\n",
      "EstimatedSalary          11.58\n",
      "Exited                    0.00\n",
      "dtype: float64\n",
      "RowNumber             10000.00\n",
      "CustomerId         15815690.00\n",
      "CreditScore             850.00\n",
      "Age                      92.00\n",
      "Tenure                   10.00\n",
      "Balance              250898.09\n",
      "NumOfProducts             4.00\n",
      "HasCrCard                 1.00\n",
      "IsActiveMember            1.00\n",
      "EstimatedSalary      199992.48\n",
      "Exited                    1.00\n",
      "dtype: float64\n"
     ]
    }
   ],
   "source": [
    "print(data.info())\n",
    "\n",
    "print(data.duplicated().sum())\n",
    "print(data['Geography'].unique())\n",
    "print(data['Gender'].unique())\n",
    "print(data.min(numeric_only=True))\n",
    "print(data.max(numeric_only=True))"
   ]
  },
  {
   "cell_type": "markdown",
   "metadata": {},
   "source": [
    "В столбце Tenure есть пропуски, их можно заполнить нулями. Дубликатов в данных нет. Для предсказания ухода клиента столбцы с их уникальными номерами, фамилиями и номером в списке не нужны - удалю их. Есть два категориальных признака - Geography и Gender.\t\n",
    "В численных признаках нет подозрительно маленьких и больших значений кроме предполагаемой зарплаты:"
   ]
  },
  {
   "cell_type": "code",
   "execution_count": 5,
   "metadata": {},
   "outputs": [
    {
     "data": {
      "image/png": "[encoded data removed]",
      "text/plain": [
       "<Figure size 800x300 with 1 Axes>"
      ]
     },
     "metadata": {},
     "output_type": "display_data"
    }
   ],
   "source": [
    "data['EstimatedSalary'].plot(kind='hist', bins=100, figsize=(8,3));"
   ]
  },
  {
   "cell_type": "markdown",
   "metadata": {},
   "source": [
    "но на графике с ней нет выбивающихся значений."
   ]
  },
  {
   "cell_type": "code",
   "execution_count": 6,
   "metadata": {},
   "outputs": [
    {
     "name": "stdout",
     "output_type": "stream",
     "text": [
      "<class 'pandas.core.frame.DataFrame'>\n",
      "RangeIndex: 10000 entries, 0 to 9999\n",
      "Data columns (total 11 columns):\n",
      " #   Column           Non-Null Count  Dtype  \n",
      "---  ------           --------------  -----  \n",
      " 0   CreditScore      10000 non-null  int64  \n",
      " 1   Geography        10000 non-null  object \n",
      " 2   Gender           10000 non-null  object \n",
      " 3   Age              10000 non-null  int64  \n",
      " 4   Tenure           10000 non-null  float64\n",
      " 5   Balance          10000 non-null  float64\n",
      " 6   NumOfProducts    10000 non-null  int64  \n",
      " 7   HasCrCard        10000 non-null  int64  \n",
      " 8   IsActiveMember   10000 non-null  int64  \n",
      " 9   EstimatedSalary  10000 non-null  float64\n",
      " 10  Exited           10000 non-null  int64  \n",
      "dtypes: float64(3), int64(6), object(2)\n",
      "memory usage: 859.5+ KB\n",
      "None\n"
     ]
    }
   ],
   "source": [
    "data['Tenure'] = data['Tenure'].fillna(0)\n",
    "data = data.drop(['RowNumber', 'CustomerId', 'Surname'], axis=1)\n",
    "\n",
    "print(data.info())"
   ]
  },
  {
   "cell_type": "code",
   "execution_count": 7,
   "metadata": {},
   "outputs": [
    {
     "name": "stdout",
     "output_type": "stream",
     "text": [
      "0    0.7963\n",
      "1    0.2037\n",
      "Name: Exited, dtype: float64\n"
     ]
    }
   ],
   "source": [
    "print(data['Exited'].value_counts(normalize=1))"
   ]
  },
  {
   "cell_type": "markdown",
   "metadata": {},
   "source": [
    "Соотношение классов в целевом признаке далеко от равного - ушедших клиентов в 4 раза меньше. Необходимо будет провести баланс классов. Но сначала подготовлю данные для обучения: проведу разделение на три выборки, порядковое кодирование и стандартизацию данных."
   ]
  },
  {
   "cell_type": "code",
   "execution_count": 8,
   "metadata": {},
   "outputs": [
    {
     "name": "stdout",
     "output_type": "stream",
     "text": [
      "размер тренировочной выборки: 6000\n",
      "размер валидационной выборки: 2000\n",
      "размер тестовой выборки: 2000\n"
     ]
    }
   ],
   "source": [
    "target = data['Exited']\n",
    "features = data.drop('Exited', axis=1)\n",
    "\n",
    "features_train, features_, target_train, target_ = train_test_split(\n",
    "    features, target, test_size=0.4, random_state=12, stratify=target)\n",
    "features_test, features_valid, target_test, target_valid = train_test_split(\n",
    "    features_, target_, test_size=0.5, random_state=12, stratify=target_)\n",
    "\n",
    "target_train = target_train.reset_index(drop=True)\n",
    "target_valid = target_valid.reset_index(drop=True)\n",
    "target_test = target_test.reset_index(drop=True)\n",
    "\n",
    "print('размер тренировочной выборки:', features_train.shape[0])\n",
    "print('размер валидационной выборки:', features_valid.shape[0])\n",
    "print('размер тестовой выборки:', features_test.shape[0])"
   ]
  },
  {
   "cell_type": "code",
   "execution_count": 9,
   "metadata": {},
   "outputs": [
    {
     "data": {
      "text/html": [
       "<div>\n",
       "<style scoped>\n",
       "    .dataframe tbody tr th:only-of-type {\n",
       "        vertical-align: middle;\n",
       "    }\n",
       "\n",
       "    .dataframe tbody tr th {\n",
       "        vertical-align: top;\n",
       "    }\n",
       "\n",
       "    .dataframe thead th {\n",
       "        text-align: right;\n",
       "    }\n",
       "</style>\n",
       "<table border=\"1\" class=\"dataframe\">\n",
       "  <thead>\n",
       "    <tr style=\"text-align: right;\">\n",
       "      <th></th>\n",
       "      <th>CreditScore</th>\n",
       "      <th>Geography</th>\n",
       "      <th>Gender</th>\n",
       "      <th>Age</th>\n",
       "      <th>Tenure</th>\n",
       "      <th>Balance</th>\n",
       "      <th>NumOfProducts</th>\n",
       "      <th>HasCrCard</th>\n",
       "      <th>IsActiveMember</th>\n",
       "      <th>EstimatedSalary</th>\n",
       "    </tr>\n",
       "  </thead>\n",
       "  <tbody>\n",
       "    <tr>\n",
       "      <th>0</th>\n",
       "      <td>232.0</td>\n",
       "      <td>0.0</td>\n",
       "      <td>1.0</td>\n",
       "      <td>7.0</td>\n",
       "      <td>1.0</td>\n",
       "      <td>0.0</td>\n",
       "      <td>0.0</td>\n",
       "      <td>1.0</td>\n",
       "      <td>0.0</td>\n",
       "      <td>2988.0</td>\n",
       "    </tr>\n",
       "    <tr>\n",
       "      <th>1</th>\n",
       "      <td>353.0</td>\n",
       "      <td>1.0</td>\n",
       "      <td>1.0</td>\n",
       "      <td>47.0</td>\n",
       "      <td>1.0</td>\n",
       "      <td>2698.0</td>\n",
       "      <td>0.0</td>\n",
       "      <td>1.0</td>\n",
       "      <td>1.0</td>\n",
       "      <td>3644.0</td>\n",
       "    </tr>\n",
       "    <tr>\n",
       "      <th>2</th>\n",
       "      <td>273.0</td>\n",
       "      <td>1.0</td>\n",
       "      <td>0.0</td>\n",
       "      <td>9.0</td>\n",
       "      <td>4.0</td>\n",
       "      <td>1476.0</td>\n",
       "      <td>0.0</td>\n",
       "      <td>0.0</td>\n",
       "      <td>1.0</td>\n",
       "      <td>657.0</td>\n",
       "    </tr>\n",
       "    <tr>\n",
       "      <th>3</th>\n",
       "      <td>142.0</td>\n",
       "      <td>2.0</td>\n",
       "      <td>0.0</td>\n",
       "      <td>28.0</td>\n",
       "      <td>5.0</td>\n",
       "      <td>2899.0</td>\n",
       "      <td>0.0</td>\n",
       "      <td>1.0</td>\n",
       "      <td>1.0</td>\n",
       "      <td>2507.0</td>\n",
       "    </tr>\n",
       "    <tr>\n",
       "      <th>4</th>\n",
       "      <td>294.0</td>\n",
       "      <td>0.0</td>\n",
       "      <td>1.0</td>\n",
       "      <td>10.0</td>\n",
       "      <td>0.0</td>\n",
       "      <td>3651.0</td>\n",
       "      <td>1.0</td>\n",
       "      <td>1.0</td>\n",
       "      <td>1.0</td>\n",
       "      <td>2612.0</td>\n",
       "    </tr>\n",
       "  </tbody>\n",
       "</table>\n",
       "</div>"
      ],
      "text/plain": [
       "   CreditScore  Geography  Gender   Age  Tenure  Balance  NumOfProducts  \\\n",
       "0        232.0        0.0     1.0   7.0     1.0      0.0            0.0   \n",
       "1        353.0        1.0     1.0  47.0     1.0   2698.0            0.0   \n",
       "2        273.0        1.0     0.0   9.0     4.0   1476.0            0.0   \n",
       "3        142.0        2.0     0.0  28.0     5.0   2899.0            0.0   \n",
       "4        294.0        0.0     1.0  10.0     0.0   3651.0            1.0   \n",
       "\n",
       "   HasCrCard  IsActiveMember  EstimatedSalary  \n",
       "0        1.0             0.0           2988.0  \n",
       "1        1.0             1.0           3644.0  \n",
       "2        0.0             1.0            657.0  \n",
       "3        1.0             1.0           2507.0  \n",
       "4        1.0             1.0           2612.0  "
      ]
     },
     "execution_count": 9,
     "metadata": {},
     "output_type": "execute_result"
    }
   ],
   "source": [
    "encoder = OrdinalEncoder()\n",
    "\n",
    "features_train = pd.DataFrame(encoder.fit_transform(features_train), columns=features_train.columns)\n",
    "features_valid = pd.DataFrame(encoder.fit_transform(features_valid), columns=features_valid.columns)\n",
    "features_test = pd.DataFrame(encoder.fit_transform(features_test), columns=features_test.columns)\n",
    "\n",
    "features_train.head()"
   ]
  },
  {
   "cell_type": "code",
   "execution_count": 10,
   "metadata": {},
   "outputs": [
    {
     "data": {
      "text/html": [
       "<div>\n",
       "<style scoped>\n",
       "    .dataframe tbody tr th:only-of-type {\n",
       "        vertical-align: middle;\n",
       "    }\n",
       "\n",
       "    .dataframe tbody tr th {\n",
       "        vertical-align: top;\n",
       "    }\n",
       "\n",
       "    .dataframe thead th {\n",
       "        text-align: right;\n",
       "    }\n",
       "</style>\n",
       "<table border=\"1\" class=\"dataframe\">\n",
       "  <thead>\n",
       "    <tr style=\"text-align: right;\">\n",
       "      <th></th>\n",
       "      <th>CreditScore</th>\n",
       "      <th>Geography</th>\n",
       "      <th>Gender</th>\n",
       "      <th>Age</th>\n",
       "      <th>Tenure</th>\n",
       "      <th>Balance</th>\n",
       "      <th>NumOfProducts</th>\n",
       "      <th>HasCrCard</th>\n",
       "      <th>IsActiveMember</th>\n",
       "      <th>EstimatedSalary</th>\n",
       "    </tr>\n",
       "  </thead>\n",
       "  <tbody>\n",
       "    <tr>\n",
       "      <th>0</th>\n",
       "      <td>-0.187491</td>\n",
       "      <td>0.0</td>\n",
       "      <td>1.0</td>\n",
       "      <td>-1.326716</td>\n",
       "      <td>-1.127634</td>\n",
       "      <td>-0.957047</td>\n",
       "      <td>-0.911792</td>\n",
       "      <td>1.0</td>\n",
       "      <td>0.0</td>\n",
       "      <td>-0.006640</td>\n",
       "    </tr>\n",
       "    <tr>\n",
       "      <th>1</th>\n",
       "      <td>1.074630</td>\n",
       "      <td>1.0</td>\n",
       "      <td>1.0</td>\n",
       "      <td>2.450724</td>\n",
       "      <td>-1.127634</td>\n",
       "      <td>1.161348</td>\n",
       "      <td>-0.911792</td>\n",
       "      <td>1.0</td>\n",
       "      <td>1.0</td>\n",
       "      <td>0.372102</td>\n",
       "    </tr>\n",
       "    <tr>\n",
       "      <th>2</th>\n",
       "      <td>0.240170</td>\n",
       "      <td>1.0</td>\n",
       "      <td>0.0</td>\n",
       "      <td>-1.137844</td>\n",
       "      <td>-0.167673</td>\n",
       "      <td>0.201868</td>\n",
       "      <td>-0.911792</td>\n",
       "      <td>0.0</td>\n",
       "      <td>1.0</td>\n",
       "      <td>-1.352443</td>\n",
       "    </tr>\n",
       "    <tr>\n",
       "      <th>3</th>\n",
       "      <td>-1.126259</td>\n",
       "      <td>2.0</td>\n",
       "      <td>0.0</td>\n",
       "      <td>0.656440</td>\n",
       "      <td>0.152314</td>\n",
       "      <td>1.319168</td>\n",
       "      <td>-0.911792</td>\n",
       "      <td>1.0</td>\n",
       "      <td>1.0</td>\n",
       "      <td>-0.284345</td>\n",
       "    </tr>\n",
       "    <tr>\n",
       "      <th>4</th>\n",
       "      <td>0.459216</td>\n",
       "      <td>0.0</td>\n",
       "      <td>1.0</td>\n",
       "      <td>-1.043408</td>\n",
       "      <td>-1.447621</td>\n",
       "      <td>1.909618</td>\n",
       "      <td>0.809653</td>\n",
       "      <td>1.0</td>\n",
       "      <td>1.0</td>\n",
       "      <td>-0.223723</td>\n",
       "    </tr>\n",
       "  </tbody>\n",
       "</table>\n",
       "</div>"
      ],
      "text/plain": [
       "   CreditScore  Geography  Gender       Age    Tenure   Balance  \\\n",
       "0    -0.187491        0.0     1.0 -1.326716 -1.127634 -0.957047   \n",
       "1     1.074630        1.0     1.0  2.450724 -1.127634  1.161348   \n",
       "2     0.240170        1.0     0.0 -1.137844 -0.167673  0.201868   \n",
       "3    -1.126259        2.0     0.0  0.656440  0.152314  1.319168   \n",
       "4     0.459216        0.0     1.0 -1.043408 -1.447621  1.909618   \n",
       "\n",
       "   NumOfProducts  HasCrCard  IsActiveMember  EstimatedSalary  \n",
       "0      -0.911792        1.0             0.0        -0.006640  \n",
       "1      -0.911792        1.0             1.0         0.372102  \n",
       "2      -0.911792        0.0             1.0        -1.352443  \n",
       "3      -0.911792        1.0             1.0        -0.284345  \n",
       "4       0.809653        1.0             1.0        -0.223723  "
      ]
     },
     "execution_count": 10,
     "metadata": {},
     "output_type": "execute_result"
    }
   ],
   "source": [
    "numeric = ['CreditScore', 'Age', 'Tenure','Balance', 'NumOfProducts', 'EstimatedSalary']\n",
    "\n",
    "scaler = StandardScaler()\n",
    "scaler.fit(features_train[numeric])\n",
    "\n",
    "features_train[numeric] = scaler.transform(features_train[numeric])\n",
    "features_valid[numeric] = scaler.transform(features_valid[numeric])\n",
    "features_test[numeric] = scaler.transform(features_test[numeric])\n",
    "features_train.head()"
   ]
  },
  {
   "cell_type": "markdown",
   "metadata": {},
   "source": [
    "Данные подготовлены: в них нет ненужных столбцов, значения подходят для обучения модели."
   ]
  },
  {
   "cell_type": "markdown",
   "metadata": {},
   "source": [
    "## Исследование задачи"
   ]
  },
  {
   "cell_type": "markdown",
   "metadata": {},
   "source": [
    "Нужно спрогнозировать уход клиента. Качество прогноза будет измерятся f1-мерой, цель - обучить модель, для которой эта метрика будет больше 0.59.\n",
    "\n",
    "Я буду изучать работу трех моделей: дерева классификации, случайного леса и логистической регрессии. Сначала обучу модели на данных с дисбалансом"
   ]
  },
  {
   "cell_type": "markdown",
   "metadata": {},
   "source": [
    "### Дерево классификации"
   ]
  },
  {
   "cell_type": "code",
   "execution_count": 11,
   "metadata": {},
   "outputs": [
    {
     "name": "stdout",
     "output_type": "stream",
     "text": [
      "глубина: 7\n",
      "f1-мера: 0.5217391304347826\n",
      "auc-roc: 0.8190015641935167\n",
      "CPU times: total: 609 ms\n",
      "Wall time: 661 ms\n"
     ]
    },
    {
     "data": {
      "image/png": "[encoded data removed]",
      "text/plain": [
       "<Figure size 640x480 with 1 Axes>"
      ]
     },
     "metadata": {},
     "output_type": "display_data"
    }
   ],
   "source": [
    "%%time\n",
    "best_depth_tree = 0\n",
    "best_f1 = 0\n",
    "best_roc = 0\n",
    "\n",
    "proc = []\n",
    "\n",
    "for depth in range(3, 20):\n",
    "    model = DecisionTreeClassifier(max_depth=depth, random_state=12)\n",
    "    model.fit(features_train, target_train)\n",
    "    predicted_valid = model.predict(features_valid)\n",
    "\n",
    "    probabilities_valid = model.predict_proba(features_valid)\n",
    "    probabilities_one_valid = probabilities_valid[:, 1]\n",
    "\n",
    "    f1 = f1_score(target_valid, predicted_valid)\n",
    "    auc_roc = roc_auc_score(target_valid, probabilities_one_valid)\n",
    "    \n",
    "    proc.append(f1)\n",
    "    \n",
    "    if f1 > best_f1:\n",
    "        best_f1 = f1\n",
    "        best_depth_tree = depth\n",
    "        best_roc = auc_roc\n",
    "        \n",
    "plt.plot(proc)\n",
    "print('глубина:', best_depth_tree)\n",
    "print('f1-мера:', best_f1)\n",
    "print('auc-roc:', best_roc)"
   ]
  },
  {
   "cell_type": "markdown",
   "metadata": {},
   "source": [
    "На графике видно, как меняется значение f1-меры - сначала значение растет, но после достижения некоторой глубины дерево переобучается, и качество предсказаний падает."
   ]
  },
  {
   "cell_type": "markdown",
   "metadata": {},
   "source": [
    "### Случайный лес"
   ]
  },
  {
   "cell_type": "code",
   "execution_count": 12,
   "metadata": {},
   "outputs": [
    {
     "name": "stdout",
     "output_type": "stream",
     "text": [
      "деревья: 21\n",
      "глубина: 14\n",
      "f1-мера: 0.548780487804878\n",
      "auc-roc: 0.8233469738397872\n",
      "CPU times: total: 1min 25s\n",
      "Wall time: 1min 25s\n"
     ]
    },
    {
     "data": {
      "image/png": "[encoded data removed]",
      "text/plain": [
       "<Figure size 640x480 with 1 Axes>"
      ]
     },
     "metadata": {},
     "output_type": "display_data"
    }
   ],
   "source": [
    "%%time\n",
    "best_trees = 0\n",
    "best_depth = 0\n",
    "best_f1 = 0\n",
    "best_roc = 0\n",
    "\n",
    "proc = []\n",
    "\n",
    "for trees in range(1, 101, 10):\n",
    "    for depth in range(3, 20):\n",
    "        model = RandomForestClassifier(n_estimators=trees, max_depth=depth, random_state=12)\n",
    "        model.fit(features_train, target_train)\n",
    "        predicted_valid = model.predict(features_valid)\n",
    "\n",
    "        probabilities_valid = model.predict_proba(features_valid)\n",
    "        probabilities_one_valid = probabilities_valid[:, 1]\n",
    "\n",
    "        f1 = f1_score(target_valid, predicted_valid)\n",
    "        auc_roc = roc_auc_score(target_valid, probabilities_one_valid)\n",
    "\n",
    "        proc.append(f1)\n",
    "        \n",
    "        if f1 > best_f1:\n",
    "            best_f1 = f1\n",
    "            best_depth = depth\n",
    "            best_trees = trees\n",
    "            best_roc = auc_roc\n",
    "\n",
    "plt.plot(proc)\n",
    "print('деревья:', best_trees)        \n",
    "print('глубина:', best_depth)\n",
    "print('f1-мера:', best_f1)\n",
    "print('auc-roc:', best_roc)"
   ]
  },
  {
   "cell_type": "markdown",
   "metadata": {},
   "source": [
    "У леса результат лучше - 0.54. Также немного лучше стало значение AUC-ROC.\n",
    "\n",
    "На графике видно, как циклично менялась f1-мера в процессе обучения - на малой глубине дерева значения такие же малые. После достижения 30 деревьев улучшения метрики нет."
   ]
  },
  {
   "cell_type": "markdown",
   "metadata": {},
   "source": [
    "### Логистическая регрессия"
   ]
  },
  {
   "cell_type": "code",
   "execution_count": 13,
   "metadata": {},
   "outputs": [
    {
     "name": "stdout",
     "output_type": "stream",
     "text": [
      "f1-мера: 0.21951219512195122\n",
      "auc-roc: 0.7329139570401025\n",
      "CPU times: total: 31.2 ms\n",
      "Wall time: 351 ms\n"
     ]
    }
   ],
   "source": [
    "%%time\n",
    "model = LogisticRegression(solver='liblinear', random_state=12)\n",
    "\n",
    "model.fit(features_train, target_train)\n",
    "predicted_valid = model.predict(features_valid)\n",
    "\n",
    "probabilities_valid = model.predict_proba(features_valid)\n",
    "probabilities_one_valid = probabilities_valid[:, 1]\n",
    "\n",
    "f1_1 = f1_score(target_valid, predicted_valid)\n",
    "auc_roc_1 = roc_auc_score(target_valid, probabilities_one_valid)\n",
    "print('f1-мера:', f1_1)\n",
    "print('auc-roc:', auc_roc_1)"
   ]
  },
  {
   "cell_type": "markdown",
   "metadata": {},
   "source": [
    "Похоже, что логистическая регрессия не \"видит\" взаимосвязей в этих данных так, как \"видят\" деревья."
   ]
  },
  {
   "cell_type": "markdown",
   "metadata": {},
   "source": [
    "## Борьба с дисбалансом"
   ]
  },
  {
   "cell_type": "code",
   "execution_count": 43,
   "metadata": {},
   "outputs": [
    {
     "data": {
      "text/plain": [
       "0    0.796\n",
       "1    0.204\n",
       "Name: Exited, dtype: float64"
      ]
     },
     "execution_count": 43,
     "metadata": {},
     "output_type": "execute_result"
    }
   ],
   "source": [
    "target_valid.value_counts(normalize=1)"
   ]
  },
  {
   "cell_type": "markdown",
   "metadata": {},
   "source": [
    "Положительный класс меньше отрицательного в 4 раза. Попробую сбалансировать их разными способами."
   ]
  },
  {
   "cell_type": "markdown",
   "metadata": {},
   "source": [
    "### Вес классов"
   ]
  },
  {
   "cell_type": "markdown",
   "metadata": {},
   "source": [
    "Для начала передам самой модели параметр, отвечающий за равный вес классов:"
   ]
  },
  {
   "cell_type": "markdown",
   "metadata": {},
   "source": [
    "#### Дерево решений 1"
   ]
  },
  {
   "cell_type": "code",
   "execution_count": 15,
   "metadata": {},
   "outputs": [
    {
     "name": "stdout",
     "output_type": "stream",
     "text": [
      "Вес классов:\n",
      "Предыдущие гиперпараметры:\n",
      "глубина: 7\n",
      "f1-мера: 0.5390984360625576\n",
      "auc-roc: 0.8001304007784017\n",
      "Новые:\n",
      "глубина: 6\n",
      "f1-мера: 0.5644670050761421\n",
      "auc-roc: 0.8156306963740271\n",
      "CPU times: total: 859 ms\n",
      "Wall time: 845 ms\n"
     ]
    },
    {
     "data": {
      "image/png": "[encoded data removed]",
      "text/plain": [
       "<Figure size 640x480 with 1 Axes>"
      ]
     },
     "metadata": {},
     "output_type": "display_data"
    }
   ],
   "source": [
    "%%time\n",
    "\n",
    "model = DecisionTreeClassifier(max_depth=7, random_state=12, class_weight='balanced')\n",
    "model.fit(features_train, target_train)\n",
    "predicted_valid = model.predict(features_valid)\n",
    "\n",
    "probabilities_valid = model.predict_proba(features_valid)\n",
    "probabilities_one_valid = probabilities_valid[:, 1]\n",
    "\n",
    "f1 = f1_score(target_valid, predicted_valid)\n",
    "auc_roc = roc_auc_score(target_valid, probabilities_one_valid)\n",
    "\n",
    "print('Вес классов:') \n",
    "print('Предыдущие гиперпараметры:')\n",
    "print('глубина:', 7)\n",
    "print('f1-мера:', f1)\n",
    "print('auc-roc:', auc_roc)\n",
    "\n",
    "\n",
    "best_depth_tree = 0\n",
    "best_f1 = 0\n",
    "best_roc = 0\n",
    "\n",
    "proc = []\n",
    "\n",
    "for depth in range(3, 20):\n",
    "    model = DecisionTreeClassifier(max_depth=depth, random_state=12, class_weight='balanced')\n",
    "    model.fit(features_train, target_train)\n",
    "    predicted_valid = model.predict(features_valid)\n",
    "\n",
    "    probabilities_valid = model.predict_proba(features_valid)\n",
    "    probabilities_one_valid = probabilities_valid[:, 1]\n",
    "\n",
    "    f1 = f1_score(target_valid, predicted_valid)\n",
    "    auc_roc = roc_auc_score(target_valid, probabilities_one_valid)\n",
    "    \n",
    "    proc.append(f1)\n",
    "    \n",
    "    if f1 > best_f1:\n",
    "        best_f1 = f1\n",
    "        best_depth_tree = depth\n",
    "        best_roc = auc_roc\n",
    "        \n",
    "plt.plot(proc)\n",
    "print('Новые:')\n",
    "print('глубина:', best_depth_tree)\n",
    "print('f1-мера:', best_f1)\n",
    "print('auc-roc:', best_roc)"
   ]
  },
  {
   "cell_type": "markdown",
   "metadata": {},
   "source": [
    "#### Случайный лес 1"
   ]
  },
  {
   "cell_type": "code",
   "execution_count": 16,
   "metadata": {},
   "outputs": [
    {
     "name": "stdout",
     "output_type": "stream",
     "text": [
      "Вес классов:\n",
      "Предыдущие гиперпараметры:\n",
      "деревья: 21\n",
      "глубина: 14\n",
      "f1-мера: 0.5207100591715977\n",
      "auc-roc: 0.8226426248891516\n",
      "Новые:\n",
      "деревья: 31\n",
      "глубина: 9\n",
      "f1-мера: 0.586248492159228\n",
      "auc-roc: 0.8428955438959503\n",
      "CPU times: total: 1min 25s\n",
      "Wall time: 1min 25s\n"
     ]
    },
    {
     "data": {
      "image/png": "[encoded data removed]",
      "text/plain": [
       "<Figure size 640x480 with 1 Axes>"
      ]
     },
     "metadata": {},
     "output_type": "display_data"
    }
   ],
   "source": [
    "%%time\n",
    "\n",
    "model = RandomForestClassifier(n_estimators=21, max_depth=14, random_state=12, class_weight='balanced')\n",
    "model.fit(features_train, target_train)\n",
    "predicted_valid = model.predict(features_valid)\n",
    "\n",
    "probabilities_valid = model.predict_proba(features_valid)\n",
    "probabilities_one_valid = probabilities_valid[:, 1]\n",
    "\n",
    "f1 = f1_score(target_valid, predicted_valid)\n",
    "auc_roc = roc_auc_score(target_valid, probabilities_one_valid)\n",
    "\n",
    "print('Вес классов:') \n",
    "print('Предыдущие гиперпараметры:')\n",
    "print('деревья:', 21)        \n",
    "print('глубина:', 14)\n",
    "print('f1-мера:', f1)\n",
    "print('auc-roc:', auc_roc)\n",
    "\n",
    "best_trees = 0\n",
    "best_depth = 0\n",
    "best_f1 = 0\n",
    "best_roc = 0\n",
    "\n",
    "proc = []\n",
    "\n",
    "for trees in range(1, 101, 10):\n",
    "    for depth in range(3, 20):\n",
    "        model = RandomForestClassifier(n_estimators=trees, max_depth=depth, random_state=12, class_weight='balanced')\n",
    "        model.fit(features_train, target_train)\n",
    "        predicted_valid = model.predict(features_valid)\n",
    "\n",
    "        probabilities_valid = model.predict_proba(features_valid)\n",
    "        probabilities_one_valid = probabilities_valid[:, 1]\n",
    "\n",
    "        f1 = f1_score(target_valid, predicted_valid)\n",
    "        auc_roc = roc_auc_score(target_valid, probabilities_one_valid)\n",
    "        \n",
    "        proc.append([f1])\n",
    "\n",
    "        if f1 > best_f1:\n",
    "            best_f1 = f1\n",
    "            best_depth = depth\n",
    "            best_trees = trees\n",
    "            best_roc = auc_roc\n",
    "\n",
    "plt.plot(proc)\n",
    "print('Новые:')\n",
    "print('деревья:', best_trees)        \n",
    "print('глубина:', best_depth)\n",
    "print('f1-мера:', best_f1)\n",
    "print('auc-roc:', best_roc)"
   ]
  },
  {
   "cell_type": "markdown",
   "metadata": {},
   "source": [
    "#### Логист. регрессия 1"
   ]
  },
  {
   "cell_type": "code",
   "execution_count": 17,
   "metadata": {},
   "outputs": [
    {
     "name": "stdout",
     "output_type": "stream",
     "text": [
      "Вес классов:\n",
      "Предыдущий результат:\n",
      "f1-мера: 0.21951219512195122\n",
      "auc-roc: 0.7329139570401025\n",
      "Новый:\n",
      "f1-мера: 0.4591439688715953\n",
      "auc-roc: 0.7366227583998424\n",
      "CPU times: total: 46.9 ms\n",
      "Wall time: 34 ms\n"
     ]
    }
   ],
   "source": [
    "%%time\n",
    "model = LogisticRegression(solver='liblinear', random_state=12, class_weight='balanced')\n",
    "\n",
    "model.fit(features_train, target_train)\n",
    "predicted_valid = model.predict(features_valid)\n",
    "\n",
    "probabilities_valid = model.predict_proba(features_valid)\n",
    "probabilities_one_valid = probabilities_valid[:, 1]\n",
    "\n",
    "f1 = f1_score(target_valid, predicted_valid)\n",
    "auc_roc = roc_auc_score(target_valid, probabilities_one_valid)\n",
    "\n",
    "print('Вес классов:') \n",
    "print('Предыдущий результат:')\n",
    "print('f1-мера:', f1_1)\n",
    "print('auc-roc:', auc_roc_1)\n",
    "\n",
    "print('Новый:')\n",
    "print('f1-мера:', f1)\n",
    "print('auc-roc:', auc_roc)"
   ]
  },
  {
   "cell_type": "markdown",
   "metadata": {},
   "source": [
    "F1-мера решающего дерева стала лучше, чем у леса. А для логистической регрессии эта метрика улучшилась в два раза!"
   ]
  },
  {
   "cell_type": "markdown",
   "metadata": {},
   "source": [
    "### Upsampling"
   ]
  },
  {
   "cell_type": "code",
   "execution_count": 44,
   "metadata": {},
   "outputs": [
    {
     "name": "stdout",
     "output_type": "stream",
     "text": [
      "Баланс классов после апсемплинга:\n",
      "1    0.50569\n",
      "0    0.49431\n",
      "Name: Exited, dtype: float64\n"
     ]
    }
   ],
   "source": [
    "repeat = float(round(target_valid.value_counts(normalize=1)[0] / target_valid.value_counts(normalize=1)[1]))\n",
    "\n",
    "features_zeros = features_train[target_train == 0]\n",
    "features_ones = features_train[target_train == 1]\n",
    "target_zeros = target_train[target_train == 0]\n",
    "target_ones = target_train[target_train == 1]\n",
    "\n",
    "features_upsampled = pd.concat([features_zeros, features_ones.sample(frac=repeat, replace = True, random_state=12)])\n",
    "target_upsampled = pd.concat([target_zeros, target_ones.sample(frac=repeat, replace = True, random_state=12)])\n",
    "\n",
    "features_upsampled, target_upsampled = shuffle(features_upsampled, target_upsampled, random_state=12)\n",
    "\n",
    "print('Баланс классов после апсемплинга:')\n",
    "print(target_upsampled.value_counts(normalize=1))"
   ]
  },
  {
   "cell_type": "markdown",
   "metadata": {},
   "source": [
    "#### Дерево решений 2"
   ]
  },
  {
   "cell_type": "code",
   "execution_count": 45,
   "metadata": {},
   "outputs": [
    {
     "name": "stdout",
     "output_type": "stream",
     "text": [
      "Upsampling:\n",
      "Предыдущие гиперпараметры:\n",
      "глубина: 7\n",
      "f1-мера: 0.5429071803852891\n",
      "auc-roc: 0.7971798329884718\n",
      "Новые:\n",
      "глубина: 5\n",
      "f1-мера: 0.5564053537284894\n",
      "auc-roc: 0.8229143573258448\n",
      "CPU times: total: 750 ms\n",
      "Wall time: 748 ms\n"
     ]
    },
    {
     "data": {
      "image/png": "[encoded data removed]",
      "text/plain": [
       "<Figure size 640x480 with 1 Axes>"
      ]
     },
     "metadata": {},
     "output_type": "display_data"
    }
   ],
   "source": [
    "%%time\n",
    "\n",
    "model = DecisionTreeClassifier(max_depth=7, random_state=12)\n",
    "model.fit(features_upsampled, target_upsampled)\n",
    "predicted_valid = model.predict(features_valid)\n",
    "\n",
    "probabilities_valid = model.predict_proba(features_valid)\n",
    "probabilities_one_valid = probabilities_valid[:, 1]\n",
    "\n",
    "f1 = f1_score(target_valid, predicted_valid)\n",
    "auc_roc = roc_auc_score(target_valid, probabilities_one_valid)\n",
    "\n",
    "print('Upsampling:') \n",
    "print('Предыдущие гиперпараметры:')\n",
    "print('глубина:', 7)\n",
    "print('f1-мера:', f1)\n",
    "print('auc-roc:', auc_roc)\n",
    "\n",
    "\n",
    "best_depth_tree = 0\n",
    "best_f1 = 0\n",
    "best_roc = 0\n",
    "\n",
    "proc = []\n",
    "\n",
    "for depth in range(3, 20):\n",
    "    model = DecisionTreeClassifier(max_depth=depth, random_state=12)\n",
    "    model.fit(features_upsampled, target_upsampled)\n",
    "    predicted_valid = model.predict(features_valid)\n",
    "\n",
    "    probabilities_valid = model.predict_proba(features_valid)\n",
    "    probabilities_one_valid = probabilities_valid[:, 1]\n",
    "\n",
    "    f1 = f1_score(target_valid, predicted_valid)\n",
    "    auc_roc = roc_auc_score(target_valid, probabilities_one_valid)\n",
    "    \n",
    "    proc.append(f1)\n",
    "    \n",
    "    if f1 > best_f1:\n",
    "        best_f1 = f1\n",
    "        best_depth_tree = depth\n",
    "        best_roc = auc_roc\n",
    "        \n",
    "plt.plot(proc)\n",
    "print('Новые:')\n",
    "print('глубина:', best_depth_tree)\n",
    "print('f1-мера:', best_f1)\n",
    "print('auc-roc:', best_roc)"
   ]
  },
  {
   "cell_type": "markdown",
   "metadata": {},
   "source": [
    "#### Случайный лес 2"
   ]
  },
  {
   "cell_type": "code",
   "execution_count": 46,
   "metadata": {},
   "outputs": [
    {
     "name": "stdout",
     "output_type": "stream",
     "text": [
      "Upsampling:\n",
      "Предыдущие гиперпараметры:\n",
      "деревья: 21\n",
      "глубина: 14\n",
      "f1-мера: 0.5648648648648649\n",
      "auc-roc: 0.8136338863434821\n",
      "Новые:\n",
      "деревья: 11\n",
      "глубина: 6\n",
      "f1-мера: 0.5841269841269842\n",
      "auc-roc: 0.8419702680067002\n",
      "CPU times: total: 1min 51s\n",
      "Wall time: 1min 53s\n"
     ]
    },
    {
     "data": {
      "image/png": "[encoded data removed]",
      "text/plain": [
       "<Figure size 640x480 with 1 Axes>"
      ]
     },
     "metadata": {},
     "output_type": "display_data"
    }
   ],
   "source": [
    "%%time\n",
    "\n",
    "model = RandomForestClassifier(n_estimators=21, max_depth=14, random_state=12)\n",
    "model.fit(features_upsampled, target_upsampled)\n",
    "predicted_valid = model.predict(features_valid)\n",
    "\n",
    "probabilities_valid = model.predict_proba(features_valid)\n",
    "probabilities_one_valid = probabilities_valid[:, 1]\n",
    "\n",
    "f1 = f1_score(target_valid, predicted_valid)\n",
    "auc_roc = roc_auc_score(target_valid, probabilities_one_valid)\n",
    "\n",
    "print('Upsampling:') \n",
    "print('Предыдущие гиперпараметры:')\n",
    "print('деревья:', 21)        \n",
    "print('глубина:', 14)\n",
    "print('f1-мера:', f1)\n",
    "print('auc-roc:', auc_roc)\n",
    "\n",
    "best_trees = 0\n",
    "best_depth = 0\n",
    "best_f1 = 0\n",
    "best_roc = 0\n",
    "\n",
    "proc = []\n",
    "\n",
    "for trees in range(1, 101, 10):\n",
    "    for depth in range(3, 20):\n",
    "        model = RandomForestClassifier(n_estimators=trees, max_depth=depth, random_state=12)\n",
    "        model.fit(features_upsampled, target_upsampled)\n",
    "        predicted_valid = model.predict(features_valid)\n",
    "\n",
    "        probabilities_valid = model.predict_proba(features_valid)\n",
    "        probabilities_one_valid = probabilities_valid[:, 1]\n",
    "\n",
    "        f1 = f1_score(target_valid, predicted_valid)\n",
    "        auc_roc = roc_auc_score(target_valid, probabilities_one_valid)\n",
    "        \n",
    "        proc.append([f1])\n",
    "\n",
    "        if f1 > best_f1:\n",
    "            best_f1 = f1\n",
    "            best_depth = depth\n",
    "            best_trees = trees\n",
    "            best_roc = auc_roc\n",
    "\n",
    "plt.plot(proc)\n",
    "print('Новые:')\n",
    "print('деревья:', best_trees)        \n",
    "print('глубина:', best_depth)\n",
    "print('f1-мера:', best_f1)\n",
    "print('auc-roc:', best_roc)"
   ]
  },
  {
   "cell_type": "markdown",
   "metadata": {},
   "source": [
    "#### Логист. регрессия 2"
   ]
  },
  {
   "cell_type": "code",
   "execution_count": 47,
   "metadata": {},
   "outputs": [
    {
     "name": "stdout",
     "output_type": "stream",
     "text": [
      "Upsampling:\n",
      "Предыдущий результат:\n",
      "f1-мера: 0.21951219512195122\n",
      "auc-roc: 0.7329139570401025\n",
      "Новый:\n",
      "f1-мера: 0.45813282001924927\n",
      "auc-roc: 0.7362132352941178\n",
      "CPU times: total: 62.5 ms\n",
      "Wall time: 43 ms\n"
     ]
    }
   ],
   "source": [
    "%%time\n",
    "model = LogisticRegression(solver='liblinear', random_state=12, class_weight='balanced')\n",
    "model.fit(features_upsampled, target_upsampled)\n",
    "predicted_valid = model.predict(features_valid)\n",
    "\n",
    "probabilities_valid = model.predict_proba(features_valid)\n",
    "probabilities_one_valid = probabilities_valid[:, 1]\n",
    "\n",
    "f1 = f1_score(target_valid, predicted_valid)\n",
    "auc_roc = roc_auc_score(target_valid, probabilities_one_valid)\n",
    "\n",
    "print('Upsampling:') \n",
    "print('Предыдущий результат:')\n",
    "print('f1-мера:', f1_1)\n",
    "print('auc-roc:', auc_roc_1)\n",
    "\n",
    "print('Новый:')\n",
    "print('f1-мера:', f1)\n",
    "print('auc-roc:', auc_roc)"
   ]
  },
  {
   "cell_type": "markdown",
   "metadata": {},
   "source": [
    "Увеличение положительного класса дает улучшение лесу и регрессии."
   ]
  },
  {
   "cell_type": "markdown",
   "metadata": {},
   "source": [
    "### Downsampling"
   ]
  },
  {
   "cell_type": "code",
   "execution_count": 50,
   "metadata": {},
   "outputs": [
    {
     "name": "stdout",
     "output_type": "stream",
     "text": [
      "Баланс классов после даунсемплинга:\n",
      "0    0.504058\n",
      "1    0.495942\n",
      "Name: Exited, dtype: float64\n"
     ]
    }
   ],
   "source": [
    "fraction = float(round(target_valid.value_counts(normalize=1)[1] / target_valid.value_counts(normalize=1)[0], 2))\n",
    "\n",
    "features_downsampled = pd.concat([features_zeros.sample(frac=fraction, random_state=12), features_ones])\n",
    "target_downsampled = pd.concat([target_zeros.sample(frac=fraction, random_state=12), target_ones])\n",
    "\n",
    "features_downsampled, target_downsampled = shuffle(features_downsampled, target_downsampled, random_state=12)\n",
    "\n",
    "print('Баланс классов после даунсемплинга:')\n",
    "print(target_downsampled.value_counts(normalize=1))"
   ]
  },
  {
   "cell_type": "markdown",
   "metadata": {},
   "source": [
    "#### Дерево решений 3"
   ]
  },
  {
   "cell_type": "code",
   "execution_count": 51,
   "metadata": {},
   "outputs": [
    {
     "name": "stdout",
     "output_type": "stream",
     "text": [
      "Downsampling:\n",
      "Предыдущие гиперпараметры:\n",
      "глубина: 7\n",
      "f1-мера: 0.5354185832566697\n",
      "auc-roc: 0.7921978150556706\n",
      "Новые:\n",
      "глубина: 7\n",
      "f1-мера: 0.5354185832566697\n",
      "auc-roc: 0.7921978150556706\n",
      "CPU times: total: 391 ms\n",
      "Wall time: 394 ms\n"
     ]
    },
    {
     "data": {
      "image/png": "[encoded data removed]",
      "text/plain": [
       "<Figure size 640x480 with 1 Axes>"
      ]
     },
     "metadata": {},
     "output_type": "display_data"
    }
   ],
   "source": [
    "%%time\n",
    "\n",
    "model = DecisionTreeClassifier(max_depth=7, random_state=12)\n",
    "model.fit(features_downsampled, target_downsampled)\n",
    "predicted_valid = model.predict(features_valid)\n",
    "\n",
    "probabilities_valid = model.predict_proba(features_valid)\n",
    "probabilities_one_valid = probabilities_valid[:, 1]\n",
    "\n",
    "f1 = f1_score(target_valid, predicted_valid)\n",
    "auc_roc = roc_auc_score(target_valid, probabilities_one_valid)\n",
    "\n",
    "print('Downsampling:') \n",
    "print('Предыдущие гиперпараметры:')\n",
    "print('глубина:', 7)\n",
    "print('f1-мера:', f1)\n",
    "print('auc-roc:', auc_roc)\n",
    "\n",
    "\n",
    "best_depth_tree = 0\n",
    "best_f1 = 0\n",
    "best_roc = 0\n",
    "\n",
    "proc = []\n",
    "\n",
    "for depth in range(3, 20):\n",
    "    model = DecisionTreeClassifier(max_depth=depth, random_state=12)\n",
    "    model.fit(features_downsampled, target_downsampled)\n",
    "    predicted_valid = model.predict(features_valid)\n",
    "\n",
    "    probabilities_valid = model.predict_proba(features_valid)\n",
    "    probabilities_one_valid = probabilities_valid[:, 1]\n",
    "\n",
    "    f1 = f1_score(target_valid, predicted_valid)\n",
    "    auc_roc = roc_auc_score(target_valid, probabilities_one_valid)\n",
    "    \n",
    "    proc.append(f1)\n",
    "    \n",
    "    if f1 > best_f1:\n",
    "        best_f1 = f1\n",
    "        best_depth_tree = depth\n",
    "        best_roc = auc_roc\n",
    "        \n",
    "plt.plot(proc)\n",
    "print('Новые:')\n",
    "print('глубина:', best_depth_tree)\n",
    "print('f1-мера:', best_f1)\n",
    "print('auc-roc:', best_roc)"
   ]
  },
  {
   "cell_type": "markdown",
   "metadata": {},
   "source": [
    "#### Случайный лес 3"
   ]
  },
  {
   "cell_type": "code",
   "execution_count": 52,
   "metadata": {},
   "outputs": [
    {
     "name": "stdout",
     "output_type": "stream",
     "text": [
      "Upsampling:\n",
      "Предыдущие гиперпараметры:\n",
      "деревья: 21\n",
      "глубина: 14\n",
      "f1-мера: 0.5640516385302878\n",
      "auc-roc: 0.8269988114592571\n",
      "Новые:\n",
      "деревья: 41\n",
      "глубина: 8\n",
      "f1-мера: 0.5849639546858909\n",
      "auc-roc: 0.8412713075179818\n",
      "CPU times: total: 50 s\n",
      "Wall time: 50.3 s\n"
     ]
    },
    {
     "data": {
      "image/png": "[encoded data removed]",
      "text/plain": [
       "<Figure size 640x480 with 1 Axes>"
      ]
     },
     "metadata": {},
     "output_type": "display_data"
    }
   ],
   "source": [
    "%%time\n",
    "\n",
    "model = RandomForestClassifier(n_estimators=21, max_depth=14, random_state=12)\n",
    "model.fit(features_downsampled, target_downsampled)\n",
    "predicted_valid = model.predict(features_valid)\n",
    "\n",
    "probabilities_valid = model.predict_proba(features_valid)\n",
    "probabilities_one_valid = probabilities_valid[:, 1]\n",
    "\n",
    "f1 = f1_score(target_valid, predicted_valid)\n",
    "auc_roc = roc_auc_score(target_valid, probabilities_one_valid)\n",
    "\n",
    "print('Upsampling:') \n",
    "print('Предыдущие гиперпараметры:')\n",
    "print('деревья:', 21)        \n",
    "print('глубина:', 14)\n",
    "print('f1-мера:', f1)\n",
    "print('auc-roc:', auc_roc)\n",
    "\n",
    "best_trees = 0\n",
    "best_depth = 0\n",
    "best_f1 = 0\n",
    "best_roc = 0\n",
    "\n",
    "proc = []\n",
    "\n",
    "for trees in range(1, 101, 10):\n",
    "    for depth in range(3, 20):\n",
    "        model = RandomForestClassifier(n_estimators=trees, max_depth=depth, random_state=12)\n",
    "        model.fit(features_downsampled, target_downsampled)\n",
    "        predicted_valid = model.predict(features_valid)\n",
    "\n",
    "        probabilities_valid = model.predict_proba(features_valid)\n",
    "        probabilities_one_valid = probabilities_valid[:, 1]\n",
    "\n",
    "        f1 = f1_score(target_valid, predicted_valid)\n",
    "        auc_roc = roc_auc_score(target_valid, probabilities_one_valid)\n",
    "        \n",
    "        proc.append([f1])\n",
    "\n",
    "        if f1 > best_f1:\n",
    "            best_f1 = f1\n",
    "            best_depth = depth\n",
    "            best_trees = trees\n",
    "            best_roc = auc_roc\n",
    "\n",
    "plt.plot(proc)\n",
    "print('Новые:')\n",
    "print('деревья:', best_trees)        \n",
    "print('глубина:', best_depth)\n",
    "print('f1-мера:', best_f1)\n",
    "print('auc-roc:', best_roc)"
   ]
  },
  {
   "cell_type": "markdown",
   "metadata": {},
   "source": [
    "#### Логист. регрессия 3"
   ]
  },
  {
   "cell_type": "code",
   "execution_count": 53,
   "metadata": {
    "scrolled": true
   },
   "outputs": [
    {
     "name": "stdout",
     "output_type": "stream",
     "text": [
      "Upsampling:\n",
      "Предыдущий результат:\n",
      "f1-мера: 0.21951219512195122\n",
      "auc-roc: 0.7329139570401025\n",
      "Новый:\n",
      "f1-мера: 0.46138807429130013\n",
      "auc-roc: 0.7350123780668046\n",
      "CPU times: total: 31.2 ms\n",
      "Wall time: 27 ms\n"
     ]
    }
   ],
   "source": [
    "%%time\n",
    "model = LogisticRegression(solver='liblinear', random_state=12)\n",
    "model.fit(features_downsampled, target_downsampled)\n",
    "predicted_valid = model.predict(features_valid)\n",
    "\n",
    "probabilities_valid = model.predict_proba(features_valid)\n",
    "probabilities_one_valid = probabilities_valid[:, 1]\n",
    "\n",
    "f1 = f1_score(target_valid, predicted_valid)\n",
    "auc_roc = roc_auc_score(target_valid, probabilities_one_valid)\n",
    "\n",
    "print('Upsampling:') \n",
    "print('Предыдущий результат:')\n",
    "print('f1-мера:', f1_1)\n",
    "print('auc-roc:', auc_roc_1)\n",
    "\n",
    "print('Новый:')\n",
    "print('f1-мера:', f1)\n",
    "print('auc-roc:', auc_roc)"
   ]
  },
  {
   "cell_type": "markdown",
   "metadata": {},
   "source": [
    "После проверки всех комбинаций \"модель + способ балансировки\", можно сказать, что случайный лес в целом лучше справляется с предсказаниями - у него самые высокие значения метрик. Самая лучшая f1-мера - 0.586 - получена после баланса классов, на модели с 31 деревом и их глубиной 9."
   ]
  },
  {
   "cell_type": "markdown",
   "metadata": {},
   "source": [
    "## Улучшение модели"
   ]
  },
  {
   "cell_type": "markdown",
   "metadata": {},
   "source": [
    "Что, если дообучать модель на валидационной выборке?"
   ]
  },
  {
   "cell_type": "code",
   "execution_count": 54,
   "metadata": {},
   "outputs": [
    {
     "name": "stdout",
     "output_type": "stream",
     "text": [
      "деревья: 31\n",
      "глубина: 9\n",
      "f1-мера: 0.6114221724524076\n",
      "auc-roc: 0.8542872610669221\n"
     ]
    }
   ],
   "source": [
    "# соединяем обучающую и валидационную выборки\n",
    "features_plus = pd.concat([features_train, features_valid])\n",
    "target_plus = pd.concat([target_train, target_valid])\n",
    "\n",
    "features_plus, target_plus = shuffle(features_plus, target_plus, random_state=12)\n",
    "\n",
    "# обучение модели\n",
    "model = RandomForestClassifier(n_estimators=31, max_depth=9, random_state=12, class_weight='balanced')\n",
    "model.fit(features_plus, target_plus)\n",
    "predicted_test = model.predict(features_test)\n",
    "\n",
    "probabilities_test = model.predict_proba(features_test)\n",
    "probabilities_one_test = probabilities_test[:, 1]\n",
    "\n",
    "f1 = f1_score(target_test, predicted_test)\n",
    "auc_roc = roc_auc_score(target_test, probabilities_one_test)\n",
    "\n",
    "print('деревья:', 31)        \n",
    "print('глубина:', 9)\n",
    "print('f1-мера:', f1)\n",
    "print('auc-roc:', auc_roc)"
   ]
  },
  {
   "cell_type": "markdown",
   "metadata": {},
   "source": [
    "Результат стал лучше!"
   ]
  },
  {
   "cell_type": "markdown",
   "metadata": {},
   "source": [
    "## Тестирование модели"
   ]
  },
  {
   "cell_type": "code",
   "execution_count": 55,
   "metadata": {},
   "outputs": [
    {
     "name": "stdout",
     "output_type": "stream",
     "text": [
      "деревья: 31\n",
      "глубина: 9\n",
      "f1-мера: 0.6114221724524076\n",
      "auc-roc: 0.8542872610669221\n"
     ]
    },
    {
     "data": {
      "image/png": "[encoded data removed]",
      "text/plain": [
       "<Figure size 640x480 with 1 Axes>"
      ]
     },
     "metadata": {},
     "output_type": "display_data"
    },
    {
     "data": {
      "image/png": "[encoded data removed]",
      "text/plain": [
       "<Figure size 640x480 with 2 Axes>"
      ]
     },
     "metadata": {},
     "output_type": "display_data"
    }
   ],
   "source": [
    "model = RandomForestClassifier(n_estimators=31, max_depth=9, random_state=12, class_weight='balanced')\n",
    "model.fit(features_plus, target_plus)\n",
    "predicted_test = model.predict(features_test)\n",
    "\n",
    "probabilities_test = model.predict_proba(features_test)\n",
    "probabilities_one_test = probabilities_test[:, 1]\n",
    "\n",
    "f1 = f1_score(target_test, predicted_test)\n",
    "auc_roc = roc_auc_score(target_test, probabilities_one_test)\n",
    "\n",
    "print('деревья:', 31)        \n",
    "print('глубина:', 9)\n",
    "print('f1-мера:', f1)\n",
    "print('auc-roc:', auc_roc)\n",
    "\n",
    "fpr, tpr, thresholds = roc_curve(target_test, probabilities_one_test)\n",
    "\n",
    "# ROC-кривая тестируемой модели\n",
    "plt.plot(fpr, tpr)\n",
    "# ROC-кривая случайной модели\n",
    "plt.plot([0, 1], [0, 1], linestyle='--')\n",
    "\n",
    "plt.xlim([0, 1])\n",
    "plt.ylim([0, 1])\n",
    "plt.xlabel('False Positive Rate')\n",
    "plt.ylabel('True Positive Rate')\n",
    "plt.title('ROC-кривая')\n",
    "plt.show()\n",
    "\n",
    "# матрица ошибок\n",
    "cm = confusion_matrix(target_test, predicted_test)\n",
    "disp = ConfusionMatrixDisplay(confusion_matrix=cm, display_labels=model.classes_)\n",
    "disp.plot();"
   ]
  },
  {
   "cell_type": "markdown",
   "metadata": {},
   "source": [
    "Тестируемая модель дает значение f1-меры 0.611 - цель исследования достигнута. На протяжении всей работы значение AUC-ROC не превышало 0.85 ни для одной модели, у тестируемой оно самое высокое - 0.854. ROC-кривая модели на графике выше, чем ROC-кривая случайной модели. Из матрицы ошибок видно, что лучше всего модель предсказывает класс 0.\n",
    "\n",
    "Итог: лучшая модель - случайный лес; лучшие найденные параметры - 31 дерево, глубина 9.\n",
    "\n",
    "Была проделана следующая работа:\n",
    "- подготовлены данные: отсеяны ненужные признаки, нужные признаки приведены к формату, пригодному для обучения модели;\n",
    "- исследованы три типа моделей;\n",
    "- исследован дисбаланс классов, проведен upsampling данных;\n",
    "- upsampling тренировочной + валидационной выборки, обучение модели на увеличенной выборке;\n",
    "- тестирование модели"
   ]
  },
  {
   "cell_type": "code",
   "execution_count": null,
   "metadata": {},
   "outputs": [],
   "source": []
  }
 ],
 "metadata": {
  "ExecuteTimeLog": [
   {
    "duration": 498,
    "start_time": "2023-02-13T17:40:23.161Z"
   },
   {
    "duration": 46,
    "start_time": "2023-02-13T17:46:43.317Z"
   },
   {
    "duration": 55,
    "start_time": "2023-02-13T17:49:28.600Z"
   },
   {
    "duration": 49,
    "start_time": "2023-02-13T17:49:32.558Z"
   },
   {
    "duration": 49,
    "start_time": "2023-02-13T17:49:43.214Z"
   },
   {
    "duration": 45,
    "start_time": "2023-02-13T17:51:56.628Z"
   },
   {
    "duration": 51,
    "start_time": "2023-02-13T17:58:08.629Z"
   },
   {
    "duration": 47,
    "start_time": "2023-02-13T17:58:13.875Z"
   },
   {
    "duration": 621,
    "start_time": "2023-02-15T20:05:46.882Z"
   },
   {
    "duration": 53,
    "start_time": "2023-02-15T20:06:01.177Z"
   },
   {
    "duration": 75,
    "start_time": "2023-02-15T20:07:02.018Z"
   },
   {
    "duration": 16,
    "start_time": "2023-02-15T20:07:19.206Z"
   },
   {
    "duration": 55,
    "start_time": "2023-02-15T20:08:05.611Z"
   },
   {
    "duration": 22,
    "start_time": "2023-02-15T20:08:18.477Z"
   },
   {
    "duration": 312,
    "start_time": "2023-02-15T20:09:14.331Z"
   },
   {
    "duration": 426,
    "start_time": "2023-02-15T20:09:36.799Z"
   },
   {
    "duration": 6,
    "start_time": "2023-02-15T20:09:54.493Z"
   },
   {
    "duration": 8,
    "start_time": "2023-02-15T20:11:14.938Z"
   },
   {
    "duration": 796,
    "start_time": "2023-02-15T20:11:24.484Z"
   },
   {
    "duration": 93,
    "start_time": "2023-02-15T20:11:30.805Z"
   },
   {
    "duration": 76,
    "start_time": "2023-02-15T20:11:38.257Z"
   },
   {
    "duration": 33,
    "start_time": "2023-02-15T20:11:38.335Z"
   },
   {
    "duration": 103,
    "start_time": "2023-02-15T20:11:38.369Z"
   },
   {
    "duration": 34,
    "start_time": "2023-02-15T20:13:12.259Z"
   },
   {
    "duration": 29,
    "start_time": "2023-02-15T20:13:20.904Z"
   },
   {
    "duration": 30,
    "start_time": "2023-02-15T20:13:29.927Z"
   },
   {
    "duration": 69,
    "start_time": "2023-02-15T20:13:38.834Z"
   },
   {
    "duration": 33,
    "start_time": "2023-02-15T20:13:42.625Z"
   },
   {
    "duration": 40,
    "start_time": "2023-02-15T20:13:47.884Z"
   },
   {
    "duration": 25,
    "start_time": "2023-02-15T20:14:25.375Z"
   },
   {
    "duration": 57,
    "start_time": "2023-02-15T20:14:29.869Z"
   },
   {
    "duration": 803,
    "start_time": "2023-02-15T20:18:31.778Z"
   },
   {
    "duration": 56,
    "start_time": "2023-02-15T20:18:45.076Z"
   },
   {
    "duration": 41,
    "start_time": "2023-02-15T20:18:58.236Z"
   },
   {
    "duration": 31,
    "start_time": "2023-02-15T20:19:07.431Z"
   },
   {
    "duration": 39,
    "start_time": "2023-02-15T20:19:43.636Z"
   },
   {
    "duration": 40,
    "start_time": "2023-02-15T20:20:03.703Z"
   },
   {
    "duration": 29,
    "start_time": "2023-02-15T20:21:14.976Z"
   },
   {
    "duration": 23,
    "start_time": "2023-02-15T20:21:21.333Z"
   },
   {
    "duration": 39,
    "start_time": "2023-02-15T20:22:23.509Z"
   },
   {
    "duration": 38,
    "start_time": "2023-02-15T20:24:10.368Z"
   },
   {
    "duration": 29,
    "start_time": "2023-02-15T20:24:40.558Z"
   },
   {
    "duration": 35,
    "start_time": "2023-02-15T20:24:49.208Z"
   },
   {
    "duration": 24,
    "start_time": "2023-02-15T20:25:07.838Z"
   },
   {
    "duration": 77,
    "start_time": "2023-02-15T20:31:17.317Z"
   },
   {
    "duration": 22,
    "start_time": "2023-02-15T20:31:20.064Z"
   },
   {
    "duration": 35,
    "start_time": "2023-02-15T20:31:22.465Z"
   },
   {
    "duration": 9,
    "start_time": "2023-02-15T20:33:16.956Z"
   },
   {
    "duration": 32,
    "start_time": "2023-02-15T20:33:56.560Z"
   },
   {
    "duration": 51,
    "start_time": "2023-02-15T20:34:24.838Z"
   },
   {
    "duration": 40,
    "start_time": "2023-02-15T20:34:24.891Z"
   },
   {
    "duration": 33,
    "start_time": "2023-02-15T20:34:24.932Z"
   },
   {
    "duration": 9,
    "start_time": "2023-02-15T20:34:24.966Z"
   },
   {
    "duration": 25,
    "start_time": "2023-02-15T20:34:24.976Z"
   },
   {
    "duration": 44,
    "start_time": "2023-02-15T20:34:32.794Z"
   },
   {
    "duration": 29,
    "start_time": "2023-02-15T20:34:49.869Z"
   },
   {
    "duration": 8,
    "start_time": "2023-02-15T20:35:10.925Z"
   },
   {
    "duration": 27,
    "start_time": "2023-02-15T20:35:13.329Z"
   },
   {
    "duration": 62,
    "start_time": "2023-02-15T20:41:48.100Z"
   },
   {
    "duration": 79,
    "start_time": "2023-02-15T20:42:01.797Z"
   },
   {
    "duration": 53,
    "start_time": "2023-02-15T20:42:19.553Z"
   },
   {
    "duration": 75,
    "start_time": "2023-02-15T20:42:24.758Z"
   },
   {
    "duration": 74,
    "start_time": "2023-02-15T20:42:26.583Z"
   },
   {
    "duration": 24,
    "start_time": "2023-02-15T20:42:26.660Z"
   },
   {
    "duration": 56,
    "start_time": "2023-02-15T20:42:26.685Z"
   },
   {
    "duration": 13,
    "start_time": "2023-02-15T20:42:26.743Z"
   },
   {
    "duration": 75,
    "start_time": "2023-02-15T20:42:26.758Z"
   },
   {
    "duration": 3,
    "start_time": "2023-02-15T20:47:42.561Z"
   },
   {
    "duration": 38,
    "start_time": "2023-02-15T20:50:32.540Z"
   },
   {
    "duration": 3,
    "start_time": "2023-02-15T20:57:20.389Z"
   },
   {
    "duration": 42,
    "start_time": "2023-02-15T20:57:38.328Z"
   },
   {
    "duration": 42,
    "start_time": "2023-02-15T20:57:41.528Z"
   },
   {
    "duration": 43,
    "start_time": "2023-02-15T20:59:20.833Z"
   },
   {
    "duration": 46,
    "start_time": "2023-02-15T20:59:27.821Z"
   },
   {
    "duration": 51,
    "start_time": "2023-02-15T20:59:30.809Z"
   },
   {
    "duration": 917,
    "start_time": "2023-02-15T20:59:46.563Z"
   },
   {
    "duration": 111,
    "start_time": "2023-02-15T20:59:54.125Z"
   },
   {
    "duration": 28,
    "start_time": "2023-02-15T21:00:11.683Z"
   },
   {
    "duration": 116,
    "start_time": "2023-02-15T21:00:18.204Z"
   },
   {
    "duration": 214,
    "start_time": "2023-02-15T21:01:32.348Z"
   },
   {
    "duration": 201,
    "start_time": "2023-02-15T21:01:36.982Z"
   },
   {
    "duration": 831,
    "start_time": "2023-02-15T21:01:43.034Z"
   },
   {
    "duration": 947,
    "start_time": "2023-02-15T21:02:14.638Z"
   },
   {
    "duration": 110,
    "start_time": "2023-02-15T21:02:19.036Z"
   },
   {
    "duration": 47,
    "start_time": "2023-02-15T21:02:30.128Z"
   },
   {
    "duration": 1138,
    "start_time": "2023-02-16T19:45:43.775Z"
   },
   {
    "duration": 207,
    "start_time": "2023-02-16T19:45:44.915Z"
   },
   {
    "duration": 23,
    "start_time": "2023-02-16T19:45:45.124Z"
   },
   {
    "duration": 39,
    "start_time": "2023-02-16T19:45:45.153Z"
   },
   {
    "duration": 9,
    "start_time": "2023-02-16T19:45:45.193Z"
   },
   {
    "duration": 26,
    "start_time": "2023-02-16T19:45:45.203Z"
   },
   {
    "duration": 864,
    "start_time": "2023-02-16T19:45:45.230Z"
   },
   {
    "duration": 89931,
    "start_time": "2023-02-16T19:46:37.779Z"
   },
   {
    "duration": 115,
    "start_time": "2023-02-16T19:48:35.336Z"
   },
   {
    "duration": 53131,
    "start_time": "2023-02-16T19:49:51.378Z"
   },
   {
    "duration": 13,
    "start_time": "2023-02-16T19:51:55.244Z"
   },
   {
    "duration": 376,
    "start_time": "2023-02-16T19:54:20.998Z"
   },
   {
    "duration": 385,
    "start_time": "2023-02-16T19:55:21.781Z"
   },
   {
    "duration": 422,
    "start_time": "2023-02-16T19:55:30.815Z"
   },
   {
    "duration": 383,
    "start_time": "2023-02-16T19:55:50.558Z"
   },
   {
    "duration": 3,
    "start_time": "2023-02-16T19:57:40.794Z"
   },
   {
    "duration": 113,
    "start_time": "2023-02-16T20:04:02.566Z"
   },
   {
    "duration": 14,
    "start_time": "2023-02-16T20:04:09.974Z"
   },
   {
    "duration": 19,
    "start_time": "2023-02-16T20:04:15.443Z"
   },
   {
    "duration": 13,
    "start_time": "2023-02-16T20:04:21.260Z"
   },
   {
    "duration": 12,
    "start_time": "2023-02-16T20:04:28.826Z"
   },
   {
    "duration": 12,
    "start_time": "2023-02-16T20:04:35.297Z"
   },
   {
    "duration": 8,
    "start_time": "2023-02-16T20:05:20.186Z"
   },
   {
    "duration": 7,
    "start_time": "2023-02-16T20:05:30.097Z"
   },
   {
    "duration": 5,
    "start_time": "2023-02-16T20:05:38.305Z"
   },
   {
    "duration": 14,
    "start_time": "2023-02-16T20:06:00.899Z"
   },
   {
    "duration": 510,
    "start_time": "2023-02-16T20:07:21.990Z"
   },
   {
    "duration": 517,
    "start_time": "2023-02-16T20:08:19.190Z"
   },
   {
    "duration": 95,
    "start_time": "2023-02-16T20:10:41.866Z"
   },
   {
    "duration": 96,
    "start_time": "2023-02-16T20:11:15.726Z"
   },
   {
    "duration": 233,
    "start_time": "2023-02-16T20:11:31.820Z"
   },
   {
    "duration": 230,
    "start_time": "2023-02-16T20:11:38.087Z"
   },
   {
    "duration": 239,
    "start_time": "2023-02-16T20:11:45.459Z"
   },
   {
    "duration": 241,
    "start_time": "2023-02-16T20:12:08.759Z"
   },
   {
    "duration": 254,
    "start_time": "2023-02-16T20:12:11.869Z"
   },
   {
    "duration": 547,
    "start_time": "2023-02-16T20:12:21.871Z"
   },
   {
    "duration": 32005,
    "start_time": "2023-02-16T20:13:39.270Z"
   },
   {
    "duration": 33909,
    "start_time": "2023-02-16T20:21:35.901Z"
   },
   {
    "duration": 34880,
    "start_time": "2023-02-16T20:23:02.686Z"
   },
   {
    "duration": 5,
    "start_time": "2023-02-16T20:24:44.224Z"
   },
   {
    "duration": 35648,
    "start_time": "2023-02-16T20:26:58.441Z"
   },
   {
    "duration": 153,
    "start_time": "2023-02-16T20:27:45.930Z"
   },
   {
    "duration": 378,
    "start_time": "2023-02-16T20:28:03.580Z"
   },
   {
    "duration": 243,
    "start_time": "2023-02-16T20:28:10.081Z"
   },
   {
    "duration": 319,
    "start_time": "2023-02-16T20:28:25.298Z"
   },
   {
    "duration": 1402,
    "start_time": "2023-02-20T18:17:18.509Z"
   },
   {
    "duration": 193,
    "start_time": "2023-02-20T18:17:19.913Z"
   },
   {
    "duration": 20,
    "start_time": "2023-02-20T18:17:20.108Z"
   },
   {
    "duration": 31,
    "start_time": "2023-02-20T18:17:20.130Z"
   },
   {
    "duration": 103,
    "start_time": "2023-02-20T18:17:20.162Z"
   },
   {
    "duration": 0,
    "start_time": "2023-02-20T18:17:20.267Z"
   },
   {
    "duration": 0,
    "start_time": "2023-02-20T18:17:20.268Z"
   },
   {
    "duration": 0,
    "start_time": "2023-02-20T18:17:20.269Z"
   },
   {
    "duration": 0,
    "start_time": "2023-02-20T18:17:20.270Z"
   },
   {
    "duration": 0,
    "start_time": "2023-02-20T18:17:20.271Z"
   },
   {
    "duration": 0,
    "start_time": "2023-02-20T18:17:20.272Z"
   },
   {
    "duration": 0,
    "start_time": "2023-02-20T18:17:20.273Z"
   },
   {
    "duration": 0,
    "start_time": "2023-02-20T18:17:20.274Z"
   },
   {
    "duration": 0,
    "start_time": "2023-02-20T18:17:20.274Z"
   },
   {
    "duration": 0,
    "start_time": "2023-02-20T18:17:20.275Z"
   },
   {
    "duration": 0,
    "start_time": "2023-02-20T18:17:20.276Z"
   },
   {
    "duration": 5,
    "start_time": "2023-02-20T18:18:02.875Z"
   },
   {
    "duration": 63,
    "start_time": "2023-02-20T18:18:02.882Z"
   },
   {
    "duration": 20,
    "start_time": "2023-02-20T18:18:02.946Z"
   },
   {
    "duration": 32,
    "start_time": "2023-02-20T18:18:02.967Z"
   },
   {
    "duration": 20,
    "start_time": "2023-02-20T18:18:03.001Z"
   },
   {
    "duration": 0,
    "start_time": "2023-02-20T18:18:03.022Z"
   },
   {
    "duration": 0,
    "start_time": "2023-02-20T18:18:03.023Z"
   },
   {
    "duration": 0,
    "start_time": "2023-02-20T18:18:03.024Z"
   },
   {
    "duration": 0,
    "start_time": "2023-02-20T18:18:03.025Z"
   },
   {
    "duration": 0,
    "start_time": "2023-02-20T18:18:03.048Z"
   },
   {
    "duration": 0,
    "start_time": "2023-02-20T18:18:03.048Z"
   },
   {
    "duration": 0,
    "start_time": "2023-02-20T18:18:03.050Z"
   },
   {
    "duration": 0,
    "start_time": "2023-02-20T18:18:03.050Z"
   },
   {
    "duration": 0,
    "start_time": "2023-02-20T18:18:03.052Z"
   },
   {
    "duration": 0,
    "start_time": "2023-02-20T18:18:03.052Z"
   },
   {
    "duration": 0,
    "start_time": "2023-02-20T18:18:03.053Z"
   },
   {
    "duration": 12,
    "start_time": "2023-02-20T18:19:10.303Z"
   },
   {
    "duration": 33,
    "start_time": "2023-02-20T18:19:16.225Z"
   },
   {
    "duration": 462,
    "start_time": "2023-02-20T18:19:16.260Z"
   },
   {
    "duration": 45935,
    "start_time": "2023-02-20T18:19:16.724Z"
   },
   {
    "duration": 93,
    "start_time": "2023-02-20T18:20:02.661Z"
   },
   {
    "duration": 99,
    "start_time": "2023-02-20T18:20:02.756Z"
   },
   {
    "duration": 391,
    "start_time": "2023-02-20T18:20:02.857Z"
   },
   {
    "duration": 503,
    "start_time": "2023-02-20T18:20:03.250Z"
   },
   {
    "duration": 236,
    "start_time": "2023-02-20T18:20:03.755Z"
   },
   {
    "duration": 27653,
    "start_time": "2023-02-20T18:20:03.993Z"
   },
   {
    "duration": 32975,
    "start_time": "2023-02-20T18:20:31.649Z"
   },
   {
    "duration": 438,
    "start_time": "2023-02-20T18:21:04.625Z"
   },
   {
    "duration": 5,
    "start_time": "2023-02-20T18:22:18.323Z"
   },
   {
    "duration": 60,
    "start_time": "2023-02-20T18:22:18.330Z"
   },
   {
    "duration": 21,
    "start_time": "2023-02-20T18:22:18.391Z"
   },
   {
    "duration": 42,
    "start_time": "2023-02-20T18:22:18.414Z"
   },
   {
    "duration": 12,
    "start_time": "2023-02-20T18:22:18.458Z"
   },
   {
    "duration": 27,
    "start_time": "2023-02-20T18:22:18.471Z"
   },
   {
    "duration": 507,
    "start_time": "2023-02-20T18:22:18.500Z"
   },
   {
    "duration": 46165,
    "start_time": "2023-02-20T18:22:19.008Z"
   },
   {
    "duration": 79,
    "start_time": "2023-02-20T18:23:05.174Z"
   },
   {
    "duration": 98,
    "start_time": "2023-02-20T18:23:05.255Z"
   },
   {
    "duration": 400,
    "start_time": "2023-02-20T18:23:05.355Z"
   },
   {
    "duration": 545,
    "start_time": "2023-02-20T18:23:05.756Z"
   },
   {
    "duration": 234,
    "start_time": "2023-02-20T18:23:06.303Z"
   },
   {
    "duration": 30184,
    "start_time": "2023-02-20T18:23:06.539Z"
   },
   {
    "duration": 34760,
    "start_time": "2023-02-20T18:23:36.725Z"
   },
   {
    "duration": 462,
    "start_time": "2023-02-20T18:24:11.487Z"
   },
   {
    "duration": 5,
    "start_time": "2023-02-20T18:36:00.131Z"
   },
   {
    "duration": 557,
    "start_time": "2023-02-20T18:36:34.141Z"
   },
   {
    "duration": 9,
    "start_time": "2023-02-20T18:38:47.490Z"
   },
   {
    "duration": 26,
    "start_time": "2023-02-20T18:38:49.649Z"
   },
   {
    "duration": 36715,
    "start_time": "2023-02-20T18:39:03.145Z"
   },
   {
    "duration": 299,
    "start_time": "2023-02-20T18:39:49.850Z"
   },
   {
    "duration": 340,
    "start_time": "2023-02-20T18:45:15.474Z"
   },
   {
    "duration": 200,
    "start_time": "2023-02-20T18:46:30.248Z"
   },
   {
    "duration": 6,
    "start_time": "2023-02-20T18:46:38.539Z"
   },
   {
    "duration": 45,
    "start_time": "2023-02-20T18:46:59.872Z"
   },
   {
    "duration": 9,
    "start_time": "2023-02-20T18:47:03.054Z"
   },
   {
    "duration": 27,
    "start_time": "2023-02-20T18:47:09.763Z"
   },
   {
    "duration": 472,
    "start_time": "2023-02-20T18:47:17.221Z"
   },
   {
    "duration": 48281,
    "start_time": "2023-02-20T18:47:21.375Z"
   },
   {
    "duration": 78,
    "start_time": "2023-02-20T18:48:21.074Z"
   },
   {
    "duration": 8,
    "start_time": "2023-02-20T18:48:25.558Z"
   },
   {
    "duration": 427,
    "start_time": "2023-02-20T18:48:34.533Z"
   },
   {
    "duration": 512,
    "start_time": "2023-02-20T18:48:41.374Z"
   },
   {
    "duration": 534,
    "start_time": "2023-02-20T18:48:49.126Z"
   },
   {
    "duration": 507,
    "start_time": "2023-02-20T18:48:57.458Z"
   },
   {
    "duration": 234,
    "start_time": "2023-02-20T18:49:00.758Z"
   },
   {
    "duration": 29862,
    "start_time": "2023-02-20T18:49:09.170Z"
   },
   {
    "duration": 35130,
    "start_time": "2023-02-20T18:50:03.516Z"
   },
   {
    "duration": 263,
    "start_time": "2023-02-20T18:51:12.428Z"
   },
   {
    "duration": 264,
    "start_time": "2023-02-20T18:51:21.085Z"
   },
   {
    "duration": 13,
    "start_time": "2023-02-20T18:51:40.730Z"
   },
   {
    "duration": 28,
    "start_time": "2023-02-20T18:51:43.819Z"
   },
   {
    "duration": 475,
    "start_time": "2023-02-20T18:52:04.224Z"
   },
   {
    "duration": 48487,
    "start_time": "2023-02-20T18:52:26.584Z"
   },
   {
    "duration": 10,
    "start_time": "2023-02-20T18:53:32.815Z"
   },
   {
    "duration": 9,
    "start_time": "2023-02-20T18:53:37.463Z"
   },
   {
    "duration": 28,
    "start_time": "2023-02-20T18:53:37.474Z"
   },
   {
    "duration": 477,
    "start_time": "2023-02-20T18:53:37.503Z"
   },
   {
    "duration": 48192,
    "start_time": "2023-02-20T18:53:37.981Z"
   },
   {
    "duration": 79,
    "start_time": "2023-02-20T18:54:26.174Z"
   },
   {
    "duration": 97,
    "start_time": "2023-02-20T18:54:26.255Z"
   },
   {
    "duration": 403,
    "start_time": "2023-02-20T18:54:26.354Z"
   },
   {
    "duration": 518,
    "start_time": "2023-02-20T18:54:26.758Z"
   },
   {
    "duration": 222,
    "start_time": "2023-02-20T18:54:27.277Z"
   },
   {
    "duration": 29450,
    "start_time": "2023-02-20T18:54:27.501Z"
   },
   {
    "duration": 34838,
    "start_time": "2023-02-20T18:54:56.953Z"
   },
   {
    "duration": 361,
    "start_time": "2023-02-20T18:55:31.793Z"
   },
   {
    "duration": 14,
    "start_time": "2023-02-20T18:55:32.156Z"
   },
   {
    "duration": 4,
    "start_time": "2023-02-20T18:56:34.788Z"
   },
   {
    "duration": 56,
    "start_time": "2023-02-20T18:56:34.853Z"
   },
   {
    "duration": 20,
    "start_time": "2023-02-20T18:56:34.911Z"
   },
   {
    "duration": 33,
    "start_time": "2023-02-20T18:56:34.933Z"
   },
   {
    "duration": 12,
    "start_time": "2023-02-20T18:56:34.968Z"
   },
   {
    "duration": 56,
    "start_time": "2023-02-20T18:56:34.982Z"
   },
   {
    "duration": 509,
    "start_time": "2023-02-20T18:56:35.039Z"
   },
   {
    "duration": 47969,
    "start_time": "2023-02-20T18:56:35.550Z"
   },
   {
    "duration": 128,
    "start_time": "2023-02-20T18:57:23.521Z"
   },
   {
    "duration": 99,
    "start_time": "2023-02-20T18:57:23.651Z"
   },
   {
    "duration": 422,
    "start_time": "2023-02-20T18:57:23.753Z"
   },
   {
    "duration": 506,
    "start_time": "2023-02-20T18:57:24.177Z"
   },
   {
    "duration": 229,
    "start_time": "2023-02-20T18:57:24.684Z"
   },
   {
    "duration": 29644,
    "start_time": "2023-02-20T18:57:24.915Z"
   },
   {
    "duration": 34636,
    "start_time": "2023-02-20T18:57:54.561Z"
   },
   {
    "duration": 449,
    "start_time": "2023-02-20T18:58:29.199Z"
   },
   {
    "duration": 451,
    "start_time": "2023-02-20T20:39:29.129Z"
   },
   {
    "duration": 487,
    "start_time": "2023-02-20T20:40:51.722Z"
   },
   {
    "duration": 13,
    "start_time": "2023-02-20T20:41:07.113Z"
   },
   {
    "duration": 26,
    "start_time": "2023-02-20T20:41:10.887Z"
   },
   {
    "duration": 48509,
    "start_time": "2023-02-20T20:41:26.408Z"
   },
   {
    "duration": 5,
    "start_time": "2023-02-20T20:42:29.168Z"
   },
   {
    "duration": 386,
    "start_time": "2023-02-20T20:42:33.383Z"
   },
   {
    "duration": 532,
    "start_time": "2023-02-20T20:42:42.663Z"
   },
   {
    "duration": 34763,
    "start_time": "2023-02-20T20:42:48.943Z"
   },
   {
    "duration": 901,
    "start_time": "2023-02-20T20:44:26.285Z"
   },
   {
    "duration": 666,
    "start_time": "2023-02-20T20:44:31.225Z"
   },
   {
    "duration": 750,
    "start_time": "2023-02-20T20:44:34.645Z"
   },
   {
    "duration": 960,
    "start_time": "2023-02-20T20:44:38.066Z"
   },
   {
    "duration": 404,
    "start_time": "2023-02-20T20:44:41.733Z"
   },
   {
    "duration": 6,
    "start_time": "2023-02-20T20:44:56.116Z"
   },
   {
    "duration": 674,
    "start_time": "2023-02-20T20:44:59.394Z"
   },
   {
    "duration": 980,
    "start_time": "2023-02-20T20:45:04.679Z"
   },
   {
    "duration": 487,
    "start_time": "2023-02-20T20:45:08.802Z"
   },
   {
    "duration": 65625,
    "start_time": "2023-02-20T20:45:35.892Z"
   },
   {
    "duration": 29837,
    "start_time": "2023-02-20T20:47:28.745Z"
   },
   {
    "duration": 82421,
    "start_time": "2023-02-20T20:49:18.047Z"
   },
   {
    "duration": 488,
    "start_time": "2023-02-20T20:51:23.602Z"
   },
   {
    "duration": 1521,
    "start_time": "2023-02-21T21:45:19.561Z"
   },
   {
    "duration": 202,
    "start_time": "2023-02-21T21:45:21.084Z"
   },
   {
    "duration": 28,
    "start_time": "2023-02-21T21:45:33.420Z"
   },
   {
    "duration": 74,
    "start_time": "2023-02-21T21:46:06.224Z"
   },
   {
    "duration": 155,
    "start_time": "2023-02-21T21:46:17.176Z"
   },
   {
    "duration": 5,
    "start_time": "2023-02-21T21:46:35.037Z"
   },
   {
    "duration": 105,
    "start_time": "2023-02-21T21:46:35.045Z"
   },
   {
    "duration": 24,
    "start_time": "2023-02-21T21:46:39.980Z"
   },
   {
    "duration": 8,
    "start_time": "2023-02-21T21:48:36.385Z"
   },
   {
    "duration": 10,
    "start_time": "2023-02-21T21:48:54.883Z"
   },
   {
    "duration": 24,
    "start_time": "2023-02-21T21:50:09.951Z"
   },
   {
    "duration": 39,
    "start_time": "2023-02-21T21:50:15.266Z"
   },
   {
    "duration": 21,
    "start_time": "2023-02-21T21:50:27.576Z"
   },
   {
    "duration": 45,
    "start_time": "2023-02-21T21:51:06.854Z"
   },
   {
    "duration": 9,
    "start_time": "2023-02-21T21:54:40.321Z"
   },
   {
    "duration": 9,
    "start_time": "2023-02-21T21:54:52.571Z"
   },
   {
    "duration": 72,
    "start_time": "2023-02-21T21:54:52.583Z"
   },
   {
    "duration": 19,
    "start_time": "2023-02-21T21:54:52.657Z"
   },
   {
    "duration": 42,
    "start_time": "2023-02-21T21:54:52.678Z"
   },
   {
    "duration": 27,
    "start_time": "2023-02-21T21:54:55.260Z"
   },
   {
    "duration": 19,
    "start_time": "2023-02-21T21:54:59.236Z"
   },
   {
    "duration": 20,
    "start_time": "2023-02-21T21:55:08.054Z"
   },
   {
    "duration": 14,
    "start_time": "2023-02-21T21:55:13.048Z"
   },
   {
    "duration": 18,
    "start_time": "2023-02-21T21:55:36.167Z"
   },
   {
    "duration": 5,
    "start_time": "2023-02-21T21:58:20.324Z"
   },
   {
    "duration": 98,
    "start_time": "2023-02-21T21:58:20.335Z"
   },
   {
    "duration": 12,
    "start_time": "2023-02-21T21:58:20.435Z"
   },
   {
    "duration": 42,
    "start_time": "2023-02-21T21:58:20.449Z"
   },
   {
    "duration": 16,
    "start_time": "2023-02-21T21:58:20.493Z"
   },
   {
    "duration": 35,
    "start_time": "2023-02-21T21:58:23.321Z"
   },
   {
    "duration": 47,
    "start_time": "2023-02-21T21:58:37.267Z"
   },
   {
    "duration": 10,
    "start_time": "2023-02-21T21:59:54.054Z"
   },
   {
    "duration": 5,
    "start_time": "2023-02-21T21:59:59.636Z"
   },
   {
    "duration": 82,
    "start_time": "2023-02-21T21:59:59.644Z"
   },
   {
    "duration": 13,
    "start_time": "2023-02-21T21:59:59.729Z"
   },
   {
    "duration": 42,
    "start_time": "2023-02-21T21:59:59.744Z"
   },
   {
    "duration": 13,
    "start_time": "2023-02-21T21:59:59.789Z"
   },
   {
    "duration": 26,
    "start_time": "2023-02-21T21:59:59.804Z"
   },
   {
    "duration": 508,
    "start_time": "2023-02-21T21:59:59.832Z"
   },
   {
    "duration": 48359,
    "start_time": "2023-02-21T22:00:00.342Z"
   },
   {
    "duration": 75,
    "start_time": "2023-02-21T22:00:48.703Z"
   },
   {
    "duration": 103,
    "start_time": "2023-02-21T22:00:48.868Z"
   },
   {
    "duration": 407,
    "start_time": "2023-02-21T22:00:48.974Z"
   },
   {
    "duration": 507,
    "start_time": "2023-02-21T22:00:49.383Z"
   },
   {
    "duration": 233,
    "start_time": "2023-02-21T22:00:49.892Z"
   },
   {
    "duration": 63411,
    "start_time": "2023-02-21T22:00:50.127Z"
   },
   {
    "duration": 83568,
    "start_time": "2023-02-21T22:01:53.539Z"
   },
   {
    "duration": 510,
    "start_time": "2023-02-21T22:04:18.662Z"
   },
   {
    "duration": 4,
    "start_time": "2023-02-21T22:10:27.127Z"
   },
   {
    "duration": 73,
    "start_time": "2023-02-21T22:11:22.268Z"
   },
   {
    "duration": 70,
    "start_time": "2023-02-21T22:11:40.368Z"
   },
   {
    "duration": 69,
    "start_time": "2023-02-21T22:14:03.775Z"
   },
   {
    "duration": 257,
    "start_time": "2023-02-21T22:15:04.236Z"
   },
   {
    "duration": 276,
    "start_time": "2023-02-21T22:18:18.412Z"
   },
   {
    "duration": 242,
    "start_time": "2023-02-21T22:18:21.592Z"
   },
   {
    "duration": 385,
    "start_time": "2023-02-21T22:19:49.245Z"
   },
   {
    "duration": 558,
    "start_time": "2023-02-21T22:19:54.752Z"
   },
   {
    "duration": 154,
    "start_time": "2023-02-21T22:20:17.924Z"
   },
   {
    "duration": 203,
    "start_time": "2023-02-21T22:20:42.015Z"
   },
   {
    "duration": 219,
    "start_time": "2023-02-21T22:21:32.141Z"
   },
   {
    "duration": 301,
    "start_time": "2023-02-21T22:21:41.212Z"
   },
   {
    "duration": 205,
    "start_time": "2023-02-21T22:22:00.080Z"
   },
   {
    "duration": 194,
    "start_time": "2023-02-21T22:22:07.346Z"
   },
   {
    "duration": 200,
    "start_time": "2023-02-21T22:22:10.525Z"
   },
   {
    "duration": 260,
    "start_time": "2023-02-21T22:23:26.886Z"
   },
   {
    "duration": 1318,
    "start_time": "2023-02-21T22:23:41.660Z"
   },
   {
    "duration": 253,
    "start_time": "2023-02-21T22:23:51.828Z"
   },
   {
    "duration": 5,
    "start_time": "2023-02-21T22:40:11.290Z"
   },
   {
    "duration": 646,
    "start_time": "2023-02-21T22:40:19.033Z"
   },
   {
    "duration": 660,
    "start_time": "2023-02-21T22:40:33.213Z"
   },
   {
    "duration": 406,
    "start_time": "2023-02-21T22:43:46.971Z"
   },
   {
    "duration": 403,
    "start_time": "2023-02-21T22:44:10.681Z"
   },
   {
    "duration": 667,
    "start_time": "2023-02-21T22:44:23.620Z"
   },
   {
    "duration": 591,
    "start_time": "2023-02-21T22:45:29.420Z"
   },
   {
    "duration": 458,
    "start_time": "2023-02-21T22:47:40.136Z"
   },
   {
    "duration": 500,
    "start_time": "2023-02-21T22:48:58.050Z"
   },
   {
    "duration": 623,
    "start_time": "2023-02-21T22:49:07.919Z"
   },
   {
    "duration": 4,
    "start_time": "2023-02-21T22:49:52.939Z"
   },
   {
    "duration": 64,
    "start_time": "2023-02-21T22:57:51.960Z"
   },
   {
    "duration": 55,
    "start_time": "2023-02-21T22:58:29.028Z"
   },
   {
    "duration": 56,
    "start_time": "2023-02-21T22:59:03.151Z"
   },
   {
    "duration": 66,
    "start_time": "2023-02-21T22:59:11.090Z"
   },
   {
    "duration": 61,
    "start_time": "2023-02-21T22:59:23.961Z"
   },
   {
    "duration": 59,
    "start_time": "2023-02-21T22:59:40.254Z"
   },
   {
    "duration": 19,
    "start_time": "2023-02-21T23:00:03.815Z"
   },
   {
    "duration": 4,
    "start_time": "2023-02-21T23:04:05.630Z"
   },
   {
    "duration": 105,
    "start_time": "2023-02-21T23:04:05.636Z"
   },
   {
    "duration": 18,
    "start_time": "2023-02-21T23:04:05.743Z"
   },
   {
    "duration": 262,
    "start_time": "2023-02-21T23:04:05.763Z"
   },
   {
    "duration": 13,
    "start_time": "2023-02-21T23:04:06.027Z"
   },
   {
    "duration": 31,
    "start_time": "2023-02-21T23:04:06.042Z"
   },
   {
    "duration": 0,
    "start_time": "2023-02-21T23:04:06.075Z"
   },
   {
    "duration": 0,
    "start_time": "2023-02-21T23:04:06.076Z"
   },
   {
    "duration": 0,
    "start_time": "2023-02-21T23:04:06.077Z"
   },
   {
    "duration": 0,
    "start_time": "2023-02-21T23:04:06.079Z"
   },
   {
    "duration": 0,
    "start_time": "2023-02-21T23:04:06.080Z"
   },
   {
    "duration": 0,
    "start_time": "2023-02-21T23:04:06.081Z"
   },
   {
    "duration": 0,
    "start_time": "2023-02-21T23:04:06.082Z"
   },
   {
    "duration": 0,
    "start_time": "2023-02-21T23:04:06.083Z"
   },
   {
    "duration": 0,
    "start_time": "2023-02-21T23:04:06.084Z"
   },
   {
    "duration": 0,
    "start_time": "2023-02-21T23:04:06.086Z"
   },
   {
    "duration": 0,
    "start_time": "2023-02-21T23:04:06.087Z"
   },
   {
    "duration": 0,
    "start_time": "2023-02-21T23:04:06.088Z"
   },
   {
    "duration": 18,
    "start_time": "2023-02-21T23:04:37.067Z"
   },
   {
    "duration": 4,
    "start_time": "2023-02-21T23:04:49.137Z"
   },
   {
    "duration": 69,
    "start_time": "2023-02-21T23:04:49.145Z"
   },
   {
    "duration": 18,
    "start_time": "2023-02-21T23:04:49.215Z"
   },
   {
    "duration": 268,
    "start_time": "2023-02-21T23:04:49.234Z"
   },
   {
    "duration": 15,
    "start_time": "2023-02-21T23:04:51.576Z"
   },
   {
    "duration": 27,
    "start_time": "2023-02-21T23:08:45.824Z"
   },
   {
    "duration": 4,
    "start_time": "2023-02-21T23:08:57.087Z"
   },
   {
    "duration": 28,
    "start_time": "2023-02-21T23:09:02.243Z"
   },
   {
    "duration": 3,
    "start_time": "2023-02-21T23:09:21.215Z"
   },
   {
    "duration": 26,
    "start_time": "2023-02-21T23:09:27.532Z"
   },
   {
    "duration": 28,
    "start_time": "2023-02-21T23:11:11.357Z"
   },
   {
    "duration": 36,
    "start_time": "2023-02-21T23:11:15.169Z"
   },
   {
    "duration": 24,
    "start_time": "2023-02-21T23:12:31.966Z"
   },
   {
    "duration": 49,
    "start_time": "2023-02-21T23:12:42.097Z"
   },
   {
    "duration": 1289,
    "start_time": "2023-02-21T23:21:58.526Z"
   },
   {
    "duration": 229,
    "start_time": "2023-02-21T23:22:07.765Z"
   },
   {
    "duration": 4,
    "start_time": "2023-02-21T23:26:48.113Z"
   },
   {
    "duration": 54,
    "start_time": "2023-02-21T23:26:48.119Z"
   },
   {
    "duration": 23,
    "start_time": "2023-02-21T23:26:48.175Z"
   },
   {
    "duration": 1052,
    "start_time": "2023-02-21T23:26:48.200Z"
   },
   {
    "duration": 19,
    "start_time": "2023-02-21T23:26:49.254Z"
   },
   {
    "duration": 29,
    "start_time": "2023-02-21T23:26:49.275Z"
   },
   {
    "duration": 12,
    "start_time": "2023-02-21T23:26:49.306Z"
   },
   {
    "duration": 21,
    "start_time": "2023-02-21T23:26:51.071Z"
   },
   {
    "duration": 25,
    "start_time": "2023-02-21T23:26:56.256Z"
   },
   {
    "duration": 79686,
    "start_time": "2023-02-21T23:27:09.720Z"
   },
   {
    "duration": 122,
    "start_time": "2023-02-21T23:31:14.446Z"
   },
   {
    "duration": 612,
    "start_time": "2023-02-21T23:32:44.682Z"
   },
   {
    "duration": 1604,
    "start_time": "2023-02-22T12:19:16.174Z"
   },
   {
    "duration": 204,
    "start_time": "2023-02-22T12:19:20.329Z"
   },
   {
    "duration": 30,
    "start_time": "2023-02-22T12:19:23.200Z"
   },
   {
    "duration": 14,
    "start_time": "2023-02-22T12:19:49.904Z"
   },
   {
    "duration": 8,
    "start_time": "2023-02-22T12:20:00.375Z"
   },
   {
    "duration": 35,
    "start_time": "2023-02-22T12:23:43.403Z"
   },
   {
    "duration": 15,
    "start_time": "2023-02-22T12:23:47.766Z"
   },
   {
    "duration": 26,
    "start_time": "2023-02-22T12:23:58.463Z"
   },
   {
    "duration": 611,
    "start_time": "2023-02-22T12:32:03.629Z"
   },
   {
    "duration": 653,
    "start_time": "2023-02-22T12:32:15.951Z"
   },
   {
    "duration": 607,
    "start_time": "2023-02-22T12:32:58.437Z"
   },
   {
    "duration": 583,
    "start_time": "2023-02-22T12:33:30.427Z"
   },
   {
    "duration": 579,
    "start_time": "2023-02-22T12:33:33.423Z"
   },
   {
    "duration": 654,
    "start_time": "2023-02-22T12:33:45.293Z"
   },
   {
    "duration": 590,
    "start_time": "2023-02-22T12:34:13.683Z"
   },
   {
    "duration": 607,
    "start_time": "2023-02-22T12:34:24.988Z"
   },
   {
    "duration": 583,
    "start_time": "2023-02-22T12:34:31.808Z"
   },
   {
    "duration": 587,
    "start_time": "2023-02-22T12:34:58.484Z"
   },
   {
    "duration": 586,
    "start_time": "2023-02-22T12:35:10.689Z"
   },
   {
    "duration": 575,
    "start_time": "2023-02-22T12:35:22.457Z"
   },
   {
    "duration": 782,
    "start_time": "2023-02-22T12:35:55.716Z"
   },
   {
    "duration": 587,
    "start_time": "2023-02-22T12:37:11.178Z"
   },
   {
    "duration": 642,
    "start_time": "2023-02-22T12:37:31.892Z"
   },
   {
    "duration": 576,
    "start_time": "2023-02-22T12:37:46.248Z"
   },
   {
    "duration": 601,
    "start_time": "2023-02-22T12:37:55.230Z"
   },
   {
    "duration": 98,
    "start_time": "2023-02-22T12:38:17.488Z"
   },
   {
    "duration": 581,
    "start_time": "2023-02-22T12:38:26.822Z"
   },
   {
    "duration": 578,
    "start_time": "2023-02-22T12:38:34.271Z"
   },
   {
    "duration": 112,
    "start_time": "2023-02-22T12:39:17.298Z"
   },
   {
    "duration": 593,
    "start_time": "2023-02-22T12:42:14.424Z"
   },
   {
    "duration": 96,
    "start_time": "2023-02-22T12:43:27.183Z"
   },
   {
    "duration": 98,
    "start_time": "2023-02-22T12:43:50.956Z"
   },
   {
    "duration": 593,
    "start_time": "2023-02-22T12:44:13.453Z"
   },
   {
    "duration": 572,
    "start_time": "2023-02-22T12:46:06.766Z"
   },
   {
    "duration": 650,
    "start_time": "2023-02-22T12:46:41.391Z"
   },
   {
    "duration": 577,
    "start_time": "2023-02-22T12:47:08.962Z"
   },
   {
    "duration": 582,
    "start_time": "2023-02-22T12:48:13.785Z"
   },
   {
    "duration": 684,
    "start_time": "2023-02-22T12:49:21.359Z"
   },
   {
    "duration": 609,
    "start_time": "2023-02-22T12:49:34.870Z"
   },
   {
    "duration": 577,
    "start_time": "2023-02-22T12:49:43.988Z"
   },
   {
    "duration": 577,
    "start_time": "2023-02-22T12:49:47.873Z"
   },
   {
    "duration": 51409,
    "start_time": "2023-02-22T12:51:06.585Z"
   },
   {
    "duration": 148,
    "start_time": "2023-02-22T12:52:29.233Z"
   },
   {
    "duration": 128,
    "start_time": "2023-02-22T12:52:34.376Z"
   },
   {
    "duration": 125,
    "start_time": "2023-02-22T12:53:29.685Z"
   },
   {
    "duration": 116,
    "start_time": "2023-02-22T12:53:40.677Z"
   },
   {
    "duration": 102,
    "start_time": "2023-02-22T12:53:58.027Z"
   },
   {
    "duration": 110,
    "start_time": "2023-02-22T12:54:43.527Z"
   },
   {
    "duration": 127,
    "start_time": "2023-02-22T12:55:05.552Z"
   },
   {
    "duration": 258,
    "start_time": "2023-02-22T12:55:21.431Z"
   },
   {
    "duration": 111,
    "start_time": "2023-02-22T12:57:23.806Z"
   },
   {
    "duration": 77,
    "start_time": "2023-02-22T12:57:38.142Z"
   },
   {
    "duration": 109,
    "start_time": "2023-02-22T12:57:42.049Z"
   },
   {
    "duration": 126,
    "start_time": "2023-02-22T12:57:56.552Z"
   },
   {
    "duration": 134,
    "start_time": "2023-02-22T12:58:09.420Z"
   },
   {
    "duration": 579,
    "start_time": "2023-02-22T12:58:27.754Z"
   },
   {
    "duration": 50950,
    "start_time": "2023-02-22T12:58:33.226Z"
   },
   {
    "duration": 97,
    "start_time": "2023-02-22T13:00:43.998Z"
   },
   {
    "duration": 7,
    "start_time": "2023-02-22T13:01:39.568Z"
   },
   {
    "duration": 417,
    "start_time": "2023-02-22T13:01:59.782Z"
   },
   {
    "duration": 551,
    "start_time": "2023-02-22T13:02:05.428Z"
   },
   {
    "duration": 288,
    "start_time": "2023-02-22T13:02:10.433Z"
   },
   {
    "duration": 238,
    "start_time": "2023-02-22T13:02:17.603Z"
   },
   {
    "duration": 587,
    "start_time": "2023-02-22T13:03:04.006Z"
   },
   {
    "duration": 290,
    "start_time": "2023-02-22T13:03:07.629Z"
   },
   {
    "duration": 275,
    "start_time": "2023-02-22T13:03:16.711Z"
   },
   {
    "duration": 68672,
    "start_time": "2023-02-22T13:05:12.174Z"
   },
   {
    "duration": 601,
    "start_time": "2023-02-22T13:07:18.691Z"
   },
   {
    "duration": 69371,
    "start_time": "2023-02-22T13:08:09.593Z"
   },
   {
    "duration": 86306,
    "start_time": "2023-02-22T13:11:24.625Z"
   },
   {
    "duration": 650,
    "start_time": "2023-02-22T13:15:51.362Z"
   },
   {
    "duration": 791,
    "start_time": "2023-02-22T13:17:26.368Z"
   },
   {
    "duration": 605,
    "start_time": "2023-02-22T21:43:50.378Z"
   },
   {
    "duration": 200,
    "start_time": "2023-02-22T21:52:25.706Z"
   },
   {
    "duration": 51449,
    "start_time": "2023-02-22T21:52:39.882Z"
   },
   {
    "duration": 399,
    "start_time": "2023-02-22T21:56:22.010Z"
   },
   {
    "duration": 538,
    "start_time": "2023-02-22T21:56:40.615Z"
   },
   {
    "duration": 226,
    "start_time": "2023-02-22T21:56:43.555Z"
   },
   {
    "duration": 585,
    "start_time": "2023-02-22T21:57:57.089Z"
   },
   {
    "duration": 395,
    "start_time": "2023-02-22T22:01:47.611Z"
   },
   {
    "duration": 189,
    "start_time": "2023-02-22T22:04:10.768Z"
   },
   {
    "duration": 386,
    "start_time": "2023-02-22T22:04:22.692Z"
   },
   {
    "duration": 186,
    "start_time": "2023-02-22T22:04:26.485Z"
   },
   {
    "duration": 274,
    "start_time": "2023-02-22T22:04:38.374Z"
   },
   {
    "duration": 382,
    "start_time": "2023-02-22T22:05:01.314Z"
   },
   {
    "duration": 175,
    "start_time": "2023-02-22T22:05:04.567Z"
   },
   {
    "duration": 516,
    "start_time": "2023-02-22T22:11:55.728Z"
   },
   {
    "duration": 39,
    "start_time": "2023-02-22T22:12:25.044Z"
   },
   {
    "duration": 20,
    "start_time": "2023-02-22T22:12:27.132Z"
   },
   {
    "duration": 31,
    "start_time": "2023-02-22T22:12:30.174Z"
   },
   {
    "duration": 50562,
    "start_time": "2023-02-22T22:12:50.644Z"
   },
   {
    "duration": 6,
    "start_time": "2023-02-22T22:13:48.855Z"
   },
   {
    "duration": 432,
    "start_time": "2023-02-22T22:13:55.512Z"
   },
   {
    "duration": 559,
    "start_time": "2023-02-22T22:15:22.382Z"
   },
   {
    "duration": 232,
    "start_time": "2023-02-22T22:15:31.686Z"
   },
   {
    "duration": 729,
    "start_time": "2023-02-22T22:16:19.895Z"
   },
   {
    "duration": 944,
    "start_time": "2023-02-22T22:17:24.019Z"
   },
   {
    "duration": 1535,
    "start_time": "2023-02-23T12:47:43.762Z"
   },
   {
    "duration": 95,
    "start_time": "2023-02-23T12:47:45.664Z"
   },
   {
    "duration": 29,
    "start_time": "2023-02-23T12:47:48.603Z"
   },
   {
    "duration": 283,
    "start_time": "2023-02-23T12:47:52.043Z"
   },
   {
    "duration": 14,
    "start_time": "2023-02-23T12:47:54.546Z"
   },
   {
    "duration": 8,
    "start_time": "2023-02-23T12:48:00.639Z"
   },
   {
    "duration": 40,
    "start_time": "2023-02-23T12:48:06.692Z"
   },
   {
    "duration": 16,
    "start_time": "2023-02-23T12:48:20.711Z"
   },
   {
    "duration": 17,
    "start_time": "2023-02-23T12:49:08.147Z"
   },
   {
    "duration": 29,
    "start_time": "2023-02-23T12:49:21.449Z"
   },
   {
    "duration": 627,
    "start_time": "2023-02-23T12:55:58.087Z"
   },
   {
    "duration": 53064,
    "start_time": "2023-02-23T12:59:41.327Z"
   },
   {
    "duration": 52674,
    "start_time": "2023-02-23T13:01:28.166Z"
   },
   {
    "duration": 54,
    "start_time": "2023-02-23T13:05:33.689Z"
   },
   {
    "duration": 6,
    "start_time": "2023-02-23T13:08:06.955Z"
   },
   {
    "duration": 409,
    "start_time": "2023-02-23T13:11:39.531Z"
   },
   {
    "duration": 50,
    "start_time": "2023-02-23T13:12:13.995Z"
   },
   {
    "duration": 7,
    "start_time": "2023-02-23T13:12:30.014Z"
   },
   {
    "duration": 429,
    "start_time": "2023-02-23T13:12:32.269Z"
   },
   {
    "duration": 581,
    "start_time": "2023-02-23T13:14:16.843Z"
   },
   {
    "duration": 249,
    "start_time": "2023-02-23T13:16:04.326Z"
   },
   {
    "duration": 72146,
    "start_time": "2023-02-23T13:21:00.164Z"
   },
   {
    "duration": 72746,
    "start_time": "2023-02-23T13:22:41.291Z"
   },
   {
    "duration": 158,
    "start_time": "2023-02-23T13:29:03.741Z"
   },
   {
    "duration": 75466,
    "start_time": "2023-02-23T13:29:25.154Z"
   },
   {
    "duration": 8,
    "start_time": "2023-02-23T13:35:09.482Z"
   },
   {
    "duration": 1142,
    "start_time": "2023-02-23T13:41:42.104Z"
   },
   {
    "duration": 1211,
    "start_time": "2023-02-23T13:42:58.890Z"
   },
   {
    "duration": 1240,
    "start_time": "2023-02-23T13:44:05.321Z"
   },
   {
    "duration": 1161,
    "start_time": "2023-02-23T13:46:20.381Z"
   },
   {
    "duration": 163,
    "start_time": "2023-02-23T13:46:52.638Z"
   },
   {
    "duration": 1287,
    "start_time": "2023-02-23T13:47:01.840Z"
   },
   {
    "duration": 967,
    "start_time": "2023-02-23T13:47:35.002Z"
   },
   {
    "duration": 55075,
    "start_time": "2023-02-23T13:47:50.196Z"
   },
   {
    "duration": 462,
    "start_time": "2023-02-23T13:48:57.752Z"
   },
   {
    "duration": 602,
    "start_time": "2023-02-23T13:49:01.308Z"
   },
   {
    "duration": 73660,
    "start_time": "2023-02-23T13:49:36.411Z"
   },
   {
    "duration": 1311,
    "start_time": "2023-02-23T13:53:43.762Z"
   },
   {
    "duration": 1226,
    "start_time": "2023-02-23T13:55:37.253Z"
   },
   {
    "duration": 1497,
    "start_time": "2023-02-23T13:56:44.668Z"
   },
   {
    "duration": 1644,
    "start_time": "2023-02-23T13:57:18.061Z"
   },
   {
    "duration": 1430,
    "start_time": "2023-02-23T13:57:43.112Z"
   },
   {
    "duration": 1415,
    "start_time": "2023-02-23T13:58:54.052Z"
   },
   {
    "duration": 1546,
    "start_time": "2023-02-23T13:59:57.981Z"
   },
   {
    "duration": 1179,
    "start_time": "2023-02-23T15:08:34.792Z"
   },
   {
    "duration": 1404,
    "start_time": "2023-02-23T15:10:02.229Z"
   },
   {
    "duration": 12,
    "start_time": "2023-02-23T15:49:17.038Z"
   },
   {
    "duration": 56,
    "start_time": "2023-02-23T15:49:17.053Z"
   },
   {
    "duration": 27,
    "start_time": "2023-02-23T15:49:17.270Z"
   },
   {
    "duration": 390,
    "start_time": "2023-02-23T15:49:17.298Z"
   },
   {
    "duration": 15,
    "start_time": "2023-02-23T15:49:17.690Z"
   },
   {
    "duration": 5,
    "start_time": "2023-02-23T15:49:17.706Z"
   },
   {
    "duration": 59,
    "start_time": "2023-02-23T15:49:17.714Z"
   },
   {
    "duration": 16,
    "start_time": "2023-02-23T15:49:17.775Z"
   },
   {
    "duration": 29,
    "start_time": "2023-02-23T15:49:17.792Z"
   },
   {
    "duration": 669,
    "start_time": "2023-02-23T15:49:17.841Z"
   },
   {
    "duration": 55560,
    "start_time": "2023-02-23T15:49:18.512Z"
   },
   {
    "duration": 78,
    "start_time": "2023-02-23T15:50:14.074Z"
   },
   {
    "duration": 97,
    "start_time": "2023-02-23T15:50:14.154Z"
   },
   {
    "duration": 474,
    "start_time": "2023-02-23T15:50:14.253Z"
   },
   {
    "duration": 616,
    "start_time": "2023-02-23T15:50:14.729Z"
   },
   {
    "duration": 255,
    "start_time": "2023-02-23T15:50:15.349Z"
   },
   {
    "duration": 74879,
    "start_time": "2023-02-23T15:50:15.607Z"
   },
   {
    "duration": 1276,
    "start_time": "2023-02-23T15:51:30.488Z"
   },
   {
    "duration": 1539,
    "start_time": "2023-02-23T15:51:31.766Z"
   },
   {
    "duration": 45,
    "start_time": "2023-02-23T18:47:56.970Z"
   },
   {
    "duration": 1670,
    "start_time": "2023-02-23T18:48:02.558Z"
   },
   {
    "duration": 249,
    "start_time": "2023-02-23T18:48:04.230Z"
   },
   {
    "duration": 33,
    "start_time": "2023-02-23T18:48:04.482Z"
   },
   {
    "duration": 345,
    "start_time": "2023-02-23T18:48:04.517Z"
   },
   {
    "duration": 13,
    "start_time": "2023-02-23T18:48:04.864Z"
   },
   {
    "duration": 9,
    "start_time": "2023-02-23T18:48:04.879Z"
   },
   {
    "duration": 16,
    "start_time": "2023-02-23T18:48:08.450Z"
   },
   {
    "duration": 107,
    "start_time": "2023-02-23T18:56:24.662Z"
   },
   {
    "duration": 51,
    "start_time": "2023-02-23T18:56:49.959Z"
   },
   {
    "duration": 27,
    "start_time": "2023-02-23T18:57:00.871Z"
   },
   {
    "duration": 15,
    "start_time": "2023-02-23T18:57:30.871Z"
   },
   {
    "duration": 67,
    "start_time": "2023-02-23T18:57:33.420Z"
   },
   {
    "duration": 44,
    "start_time": "2023-02-23T18:57:38.052Z"
   },
   {
    "duration": 38,
    "start_time": "2023-02-23T18:59:05.751Z"
   },
   {
    "duration": 1605,
    "start_time": "2023-02-24T16:31:34.180Z"
   },
   {
    "duration": 199,
    "start_time": "2023-02-24T16:31:35.787Z"
   },
   {
    "duration": 30,
    "start_time": "2023-02-24T16:31:35.988Z"
   },
   {
    "duration": 310,
    "start_time": "2023-02-24T16:31:36.021Z"
   },
   {
    "duration": 23,
    "start_time": "2023-02-24T16:31:36.334Z"
   },
   {
    "duration": 9,
    "start_time": "2023-02-24T16:31:36.359Z"
   },
   {
    "duration": 30,
    "start_time": "2023-02-24T16:31:36.370Z"
   },
   {
    "duration": 72,
    "start_time": "2023-02-24T16:31:36.403Z"
   },
   {
    "duration": 44,
    "start_time": "2023-02-24T16:31:36.477Z"
   },
   {
    "duration": 634,
    "start_time": "2023-02-24T16:31:36.523Z"
   },
   {
    "duration": 52869,
    "start_time": "2023-02-24T16:31:37.158Z"
   },
   {
    "duration": 122,
    "start_time": "2023-02-24T16:32:30.029Z"
   },
   {
    "duration": 8,
    "start_time": "2023-02-24T16:32:30.153Z"
   },
   {
    "duration": 214,
    "start_time": "2023-02-24T16:32:30.250Z"
   },
   {
    "duration": 187,
    "start_time": "2023-02-24T16:33:07.833Z"
   },
   {
    "duration": 32,
    "start_time": "2023-02-24T16:33:11.018Z"
   },
   {
    "duration": 190,
    "start_time": "2023-02-24T16:34:01.317Z"
   },
   {
    "duration": 37,
    "start_time": "2023-02-24T16:35:52.275Z"
   },
   {
    "duration": 33,
    "start_time": "2023-02-24T16:36:17.674Z"
   },
   {
    "duration": 200,
    "start_time": "2023-02-24T16:36:30.676Z"
   },
   {
    "duration": 121,
    "start_time": "2023-02-24T16:40:13.156Z"
   },
   {
    "duration": 118,
    "start_time": "2023-02-24T16:40:38.831Z"
   },
   {
    "duration": 26,
    "start_time": "2023-02-24T16:40:41.246Z"
   },
   {
    "duration": 20,
    "start_time": "2023-02-24T16:41:57.564Z"
   },
   {
    "duration": 47,
    "start_time": "2023-02-24T16:41:59.965Z"
   },
   {
    "duration": 34,
    "start_time": "2023-02-24T16:42:03.962Z"
   },
   {
    "duration": 192,
    "start_time": "2023-02-24T16:42:16.571Z"
   },
   {
    "duration": 41,
    "start_time": "2023-02-24T16:42:19.146Z"
   },
   {
    "duration": 34,
    "start_time": "2023-02-24T16:42:21.589Z"
   },
   {
    "duration": 28,
    "start_time": "2023-02-24T16:42:23.807Z"
   },
   {
    "duration": 12,
    "start_time": "2023-02-24T16:43:20.524Z"
   },
   {
    "duration": 4,
    "start_time": "2023-02-24T16:43:30.294Z"
   },
   {
    "duration": 5,
    "start_time": "2023-02-24T16:43:40.527Z"
   },
   {
    "duration": 17,
    "start_time": "2023-02-24T16:51:06.006Z"
   },
   {
    "duration": 16,
    "start_time": "2023-02-24T16:51:16.780Z"
   },
   {
    "duration": 51,
    "start_time": "2023-02-24T16:51:18.861Z"
   },
   {
    "duration": 31,
    "start_time": "2023-02-24T16:51:21.246Z"
   },
   {
    "duration": 255,
    "start_time": "2023-02-24T16:51:27.505Z"
   },
   {
    "duration": 37,
    "start_time": "2023-02-24T16:52:04.360Z"
   },
   {
    "duration": 155,
    "start_time": "2023-02-24T16:53:32.709Z"
   },
   {
    "duration": 131,
    "start_time": "2023-02-24T16:56:06.743Z"
   },
   {
    "duration": 20,
    "start_time": "2023-02-24T16:56:17.703Z"
   },
   {
    "duration": 28,
    "start_time": "2023-02-24T16:56:36.071Z"
   },
   {
    "duration": 30839,
    "start_time": "2023-02-24T17:01:32.193Z"
   },
   {
    "duration": 69935,
    "start_time": "2023-02-24T17:07:24.442Z"
   },
   {
    "duration": 30561,
    "start_time": "2023-02-24T17:09:13.873Z"
   },
   {
    "duration": 433,
    "start_time": "2023-02-24T17:12:18.481Z"
   },
   {
    "duration": 709,
    "start_time": "2023-02-24T17:12:30.390Z"
   },
   {
    "duration": 185,
    "start_time": "2023-02-24T17:14:58.825Z"
   },
   {
    "duration": 352,
    "start_time": "2023-02-24T17:15:17.982Z"
   },
   {
    "duration": 208,
    "start_time": "2023-02-24T17:16:01.903Z"
   },
   {
    "duration": 162,
    "start_time": "2023-02-24T17:16:10.295Z"
   },
   {
    "duration": 21,
    "start_time": "2023-02-24T17:16:13.441Z"
   },
   {
    "duration": 48,
    "start_time": "2023-02-24T17:16:17.502Z"
   },
   {
    "duration": 289,
    "start_time": "2023-02-24T17:16:21.706Z"
   },
   {
    "duration": 51754,
    "start_time": "2023-02-24T17:16:37.755Z"
   },
   {
    "duration": 172,
    "start_time": "2023-02-24T17:17:46.062Z"
   },
   {
    "duration": 31,
    "start_time": "2023-02-24T17:17:48.293Z"
   },
   {
    "duration": 57,
    "start_time": "2023-02-24T17:17:51.194Z"
   },
   {
    "duration": 247,
    "start_time": "2023-02-24T17:17:53.798Z"
   },
   {
    "duration": 38,
    "start_time": "2023-02-24T17:17:58.381Z"
   },
   {
    "duration": 59,
    "start_time": "2023-02-24T17:18:00.695Z"
   },
   {
    "duration": 117,
    "start_time": "2023-02-24T17:18:03.676Z"
   },
   {
    "duration": 20,
    "start_time": "2023-02-24T17:18:06.646Z"
   },
   {
    "duration": 107,
    "start_time": "2023-02-24T17:18:08.742Z"
   },
   {
    "duration": 106,
    "start_time": "2023-02-24T17:31:38.881Z"
   },
   {
    "duration": 20,
    "start_time": "2023-02-24T17:31:41.030Z"
   },
   {
    "duration": 22,
    "start_time": "2023-02-24T17:31:43.747Z"
   },
   {
    "duration": 292,
    "start_time": "2023-02-24T17:35:23.804Z"
   },
   {
    "duration": 29662,
    "start_time": "2023-02-24T17:35:30.086Z"
   },
   {
    "duration": 398,
    "start_time": "2023-02-24T17:36:19.125Z"
   },
   {
    "duration": 428,
    "start_time": "2023-02-24T17:58:05.147Z"
   },
   {
    "duration": 2112,
    "start_time": "2023-02-25T10:25:55.661Z"
   },
   {
    "duration": 201,
    "start_time": "2023-02-25T10:25:57.775Z"
   },
   {
    "duration": 28,
    "start_time": "2023-02-25T10:25:57.978Z"
   },
   {
    "duration": 311,
    "start_time": "2023-02-25T10:25:58.008Z"
   },
   {
    "duration": 28,
    "start_time": "2023-02-25T10:25:58.320Z"
   },
   {
    "duration": 7,
    "start_time": "2023-02-25T10:25:58.351Z"
   },
   {
    "duration": 17,
    "start_time": "2023-02-25T10:25:58.360Z"
   },
   {
    "duration": 40,
    "start_time": "2023-02-25T10:25:58.379Z"
   },
   {
    "duration": 49,
    "start_time": "2023-02-25T10:25:58.420Z"
   },
   {
    "duration": 638,
    "start_time": "2023-02-25T10:25:58.471Z"
   },
   {
    "duration": 54793,
    "start_time": "2023-02-25T10:25:59.111Z"
   },
   {
    "duration": 137,
    "start_time": "2023-02-25T10:26:53.905Z"
   },
   {
    "duration": 7,
    "start_time": "2023-02-25T10:26:54.044Z"
   },
   {
    "duration": 258,
    "start_time": "2023-02-25T10:26:54.058Z"
   },
   {
    "duration": 44,
    "start_time": "2023-02-25T10:26:54.317Z"
   },
   {
    "duration": 80,
    "start_time": "2023-02-25T10:26:54.362Z"
   },
   {
    "duration": 317,
    "start_time": "2023-02-25T10:26:54.446Z"
   },
   {
    "duration": 32,
    "start_time": "2023-02-25T10:26:54.765Z"
   },
   {
    "duration": 51,
    "start_time": "2023-02-25T10:26:54.799Z"
   },
   {
    "duration": 275,
    "start_time": "2023-02-25T10:26:54.854Z"
   },
   {
    "duration": 21,
    "start_time": "2023-02-25T10:26:55.137Z"
   },
   {
    "duration": 79,
    "start_time": "2023-02-25T10:26:55.160Z"
   },
   {
    "duration": 33005,
    "start_time": "2023-02-25T10:26:55.241Z"
   },
   {
    "duration": 460,
    "start_time": "2023-02-25T10:27:28.252Z"
   },
   {
    "duration": 740,
    "start_time": "2023-02-25T10:27:28.713Z"
   },
   {
    "duration": 1532,
    "start_time": "2023-02-25T15:21:41.409Z"
   },
   {
    "duration": 223,
    "start_time": "2023-02-25T15:21:42.943Z"
   },
   {
    "duration": 25,
    "start_time": "2023-02-25T15:21:43.168Z"
   },
   {
    "duration": 281,
    "start_time": "2023-02-25T15:21:43.195Z"
   },
   {
    "duration": 13,
    "start_time": "2023-02-25T15:21:43.478Z"
   },
   {
    "duration": 6,
    "start_time": "2023-02-25T15:21:43.493Z"
   },
   {
    "duration": 21,
    "start_time": "2023-02-25T15:21:43.500Z"
   },
   {
    "duration": 69,
    "start_time": "2023-02-25T15:21:43.523Z"
   },
   {
    "duration": 36,
    "start_time": "2023-02-25T15:21:43.595Z"
   },
   {
    "duration": 654,
    "start_time": "2023-02-25T15:21:43.633Z"
   },
   {
    "duration": 51442,
    "start_time": "2023-02-25T15:21:44.288Z"
   },
   {
    "duration": 41,
    "start_time": "2023-02-25T15:22:35.732Z"
   },
   {
    "duration": 8,
    "start_time": "2023-02-25T15:23:00.248Z"
   },
   {
    "duration": 194,
    "start_time": "2023-02-25T15:23:05.518Z"
   },
   {
    "duration": 267,
    "start_time": "2023-02-25T15:23:37.736Z"
   },
   {
    "duration": 114,
    "start_time": "2023-02-25T15:23:46.599Z"
   },
   {
    "duration": 67237,
    "start_time": "2023-02-25T15:24:20.789Z"
   },
   {
    "duration": 29540,
    "start_time": "2023-02-25T15:25:50.135Z"
   },
   {
    "duration": 19,
    "start_time": "2023-02-25T15:26:56.884Z"
   },
   {
    "duration": 216,
    "start_time": "2023-02-25T15:27:01.893Z"
   },
   {
    "duration": 53,
    "start_time": "2023-02-25T15:27:07.916Z"
   },
   {
    "duration": 338,
    "start_time": "2023-02-25T15:27:11.581Z"
   },
   {
    "duration": 241,
    "start_time": "2023-02-25T15:27:17.585Z"
   },
   {
    "duration": 66390,
    "start_time": "2023-02-25T15:27:38.467Z"
   },
   {
    "duration": 144,
    "start_time": "2023-02-25T15:28:56.823Z"
   },
   {
    "duration": 24,
    "start_time": "2023-02-25T15:29:01.492Z"
   },
   {
    "duration": 314,
    "start_time": "2023-02-25T15:29:09.528Z"
   },
   {
    "duration": 348,
    "start_time": "2023-02-25T15:30:39.196Z"
   },
   {
    "duration": 30011,
    "start_time": "2023-02-25T15:30:45.790Z"
   },
   {
    "duration": 426,
    "start_time": "2023-02-25T15:31:32.450Z"
   },
   {
    "duration": 609,
    "start_time": "2023-02-25T15:31:38.787Z"
   },
   {
    "duration": 82421,
    "start_time": "2023-02-25T15:33:41.541Z"
   },
   {
    "duration": 46623,
    "start_time": "2023-02-25T15:40:00.974Z"
   },
   {
    "duration": 21,
    "start_time": "2023-02-25T15:44:13.782Z"
   },
   {
    "duration": 63899,
    "start_time": "2023-02-25T15:44:26.669Z"
   },
   {
    "duration": 1432,
    "start_time": "2023-02-25T20:22:00.620Z"
   },
   {
    "duration": 92,
    "start_time": "2023-02-25T20:22:02.055Z"
   },
   {
    "duration": 25,
    "start_time": "2023-02-25T20:22:02.149Z"
   },
   {
    "duration": 268,
    "start_time": "2023-02-25T20:22:02.176Z"
   },
   {
    "duration": 12,
    "start_time": "2023-02-25T20:22:02.445Z"
   },
   {
    "duration": 23,
    "start_time": "2023-02-25T20:22:02.458Z"
   },
   {
    "duration": 21,
    "start_time": "2023-02-25T20:22:02.482Z"
   },
   {
    "duration": 57,
    "start_time": "2023-02-25T20:22:02.504Z"
   },
   {
    "duration": 35,
    "start_time": "2023-02-25T20:22:02.563Z"
   },
   {
    "duration": 537,
    "start_time": "2023-02-25T20:22:02.600Z"
   },
   {
    "duration": 44881,
    "start_time": "2023-02-25T20:22:03.138Z"
   },
   {
    "duration": 70,
    "start_time": "2023-02-25T20:22:48.021Z"
   },
   {
    "duration": 46282,
    "start_time": "2023-02-25T20:28:23.864Z"
   },
   {
    "duration": 46691,
    "start_time": "2023-02-25T20:33:23.364Z"
   },
   {
    "duration": 46150,
    "start_time": "2023-02-25T20:34:15.847Z"
   },
   {
    "duration": 539,
    "start_time": "2023-02-25T20:37:46.057Z"
   },
   {
    "duration": 555,
    "start_time": "2023-02-25T20:38:20.693Z"
   },
   {
    "duration": 522,
    "start_time": "2023-02-25T20:38:32.268Z"
   },
   {
    "duration": 22,
    "start_time": "2023-02-25T20:41:24.777Z"
   },
   {
    "duration": 27,
    "start_time": "2023-02-25T20:42:05.517Z"
   },
   {
    "duration": 45744,
    "start_time": "2023-02-25T20:42:58.927Z"
   },
   {
    "duration": 13,
    "start_time": "2023-02-25T20:47:02.577Z"
   },
   {
    "duration": 12,
    "start_time": "2023-02-25T20:47:40.757Z"
   },
   {
    "duration": 588,
    "start_time": "2023-02-25T20:48:59.129Z"
   },
   {
    "duration": 612,
    "start_time": "2023-02-25T20:49:55.882Z"
   },
   {
    "duration": 647,
    "start_time": "2023-02-25T20:52:44.855Z"
   },
   {
    "duration": 61755,
    "start_time": "2023-02-25T20:56:30.165Z"
   },
   {
    "duration": 38,
    "start_time": "2023-02-25T20:58:45.688Z"
   },
   {
    "duration": 15,
    "start_time": "2023-02-25T21:00:27.350Z"
   },
   {
    "duration": 364,
    "start_time": "2023-02-25T21:01:13.162Z"
   },
   {
    "duration": 230,
    "start_time": "2023-02-25T21:02:18.921Z"
   },
   {
    "duration": 27688,
    "start_time": "2023-02-25T21:02:28.127Z"
   },
   {
    "duration": 92,
    "start_time": "2023-02-25T21:04:09.897Z"
   },
   {
    "duration": 392,
    "start_time": "2023-02-25T21:13:42.531Z"
   },
   {
    "duration": 278,
    "start_time": "2023-02-25T21:14:16.680Z"
   },
   {
    "duration": 419,
    "start_time": "2023-02-25T21:14:23.256Z"
   },
   {
    "duration": 357,
    "start_time": "2023-02-25T21:14:39.966Z"
   },
   {
    "duration": 527,
    "start_time": "2023-02-25T21:14:51.748Z"
   },
   {
    "duration": 36,
    "start_time": "2023-02-25T21:15:47.158Z"
   },
   {
    "duration": 28487,
    "start_time": "2023-02-25T21:16:18.577Z"
   },
   {
    "duration": 79452,
    "start_time": "2023-02-25T21:17:14.636Z"
   },
   {
    "duration": 450,
    "start_time": "2023-02-25T21:19:57.372Z"
   },
   {
    "duration": 470,
    "start_time": "2023-02-25T21:22:55.739Z"
   },
   {
    "duration": 422,
    "start_time": "2023-02-25T21:23:27.363Z"
   },
   {
    "duration": 433,
    "start_time": "2023-02-25T21:23:42.653Z"
   },
   {
    "duration": 18,
    "start_time": "2023-02-25T21:24:25.548Z"
   },
   {
    "duration": 14,
    "start_time": "2023-02-25T21:24:35.930Z"
   },
   {
    "duration": 409,
    "start_time": "2023-02-25T21:25:03.500Z"
   },
   {
    "duration": 11,
    "start_time": "2023-02-25T21:25:17.515Z"
   },
   {
    "duration": 14,
    "start_time": "2023-02-25T21:25:23.817Z"
   },
   {
    "duration": 364,
    "start_time": "2023-02-25T21:25:32.941Z"
   },
   {
    "duration": 242,
    "start_time": "2023-02-25T21:25:53.863Z"
   },
   {
    "duration": 361,
    "start_time": "2023-02-25T21:26:09.182Z"
   },
   {
    "duration": 565,
    "start_time": "2023-02-25T21:26:48.869Z"
   },
   {
    "duration": 549,
    "start_time": "2023-02-25T21:27:11.886Z"
   },
   {
    "duration": 333,
    "start_time": "2023-02-25T21:27:39.830Z"
   },
   {
    "duration": 625,
    "start_time": "2023-02-25T21:27:52.943Z"
   },
   {
    "duration": 853,
    "start_time": "2023-02-25T21:30:17.285Z"
   },
   {
    "duration": 423,
    "start_time": "2023-02-25T21:30:36.762Z"
   },
   {
    "duration": 694,
    "start_time": "2023-02-25T21:34:38.094Z"
   },
   {
    "duration": 975,
    "start_time": "2023-02-25T21:35:02.900Z"
   },
   {
    "duration": 1081,
    "start_time": "2023-02-25T21:35:45.285Z"
   },
   {
    "duration": 533,
    "start_time": "2023-02-25T21:40:53.697Z"
   },
   {
    "duration": 14,
    "start_time": "2023-02-25T21:41:14.608Z"
   },
   {
    "duration": 463,
    "start_time": "2023-02-25T21:41:23.453Z"
   },
   {
    "duration": 717,
    "start_time": "2023-02-25T21:43:58.715Z"
   },
   {
    "duration": 989,
    "start_time": "2023-02-25T21:44:07.091Z"
   },
   {
    "duration": 422,
    "start_time": "2023-02-25T21:44:16.406Z"
   },
   {
    "duration": 441,
    "start_time": "2023-02-25T21:44:52.430Z"
   },
   {
    "duration": 700,
    "start_time": "2023-02-25T21:44:59.607Z"
   },
   {
    "duration": 729,
    "start_time": "2023-02-25T21:45:21.708Z"
   },
   {
    "duration": 428,
    "start_time": "2023-02-25T21:48:35.914Z"
   },
   {
    "duration": 962,
    "start_time": "2023-02-25T21:53:09.880Z"
   },
   {
    "duration": 706,
    "start_time": "2023-02-25T21:53:15.650Z"
   },
   {
    "duration": 699,
    "start_time": "2023-02-25T21:53:59.624Z"
   },
   {
    "duration": 701,
    "start_time": "2023-02-25T21:54:16.922Z"
   },
   {
    "duration": 741,
    "start_time": "2023-02-25T21:54:28.131Z"
   },
   {
    "duration": 692,
    "start_time": "2023-02-25T21:54:33.527Z"
   },
   {
    "duration": 2812,
    "start_time": "2023-02-25T23:21:08.760Z"
   },
   {
    "duration": 106,
    "start_time": "2023-02-25T23:21:11.575Z"
   },
   {
    "duration": 38,
    "start_time": "2023-02-25T23:21:11.683Z"
   },
   {
    "duration": 349,
    "start_time": "2023-02-25T23:21:11.724Z"
   },
   {
    "duration": 30,
    "start_time": "2023-02-25T23:21:12.076Z"
   },
   {
    "duration": 7,
    "start_time": "2023-02-25T23:21:12.113Z"
   },
   {
    "duration": 19,
    "start_time": "2023-02-25T23:21:12.122Z"
   },
   {
    "duration": 66,
    "start_time": "2023-02-25T23:21:12.143Z"
   },
   {
    "duration": 31,
    "start_time": "2023-02-25T23:21:12.210Z"
   },
   {
    "duration": 693,
    "start_time": "2023-02-25T23:21:12.244Z"
   },
   {
    "duration": 52281,
    "start_time": "2023-02-25T23:21:12.939Z"
   },
   {
    "duration": 70,
    "start_time": "2023-02-25T23:22:05.222Z"
   },
   {
    "duration": 11,
    "start_time": "2023-02-25T23:22:05.296Z"
   },
   {
    "duration": 746,
    "start_time": "2023-02-25T23:22:05.315Z"
   },
   {
    "duration": 52270,
    "start_time": "2023-02-25T23:22:06.063Z"
   },
   {
    "duration": 85,
    "start_time": "2023-02-25T23:22:58.334Z"
   },
   {
    "duration": 19,
    "start_time": "2023-02-25T23:22:58.485Z"
   },
   {
    "duration": 818,
    "start_time": "2023-02-25T23:22:58.506Z"
   },
   {
    "duration": 67498,
    "start_time": "2023-02-25T23:22:59.326Z"
   },
   {
    "duration": 75,
    "start_time": "2023-02-25T23:24:06.825Z"
   },
   {
    "duration": 88,
    "start_time": "2023-02-25T23:24:06.901Z"
   },
   {
    "duration": 407,
    "start_time": "2023-02-25T23:24:06.990Z"
   },
   {
    "duration": 32138,
    "start_time": "2023-02-25T23:24:07.399Z"
   },
   {
    "duration": 59,
    "start_time": "2023-02-25T23:24:39.539Z"
   },
   {
    "duration": 577,
    "start_time": "2023-02-25T23:24:39.605Z"
   },
   {
    "duration": 470,
    "start_time": "2023-02-25T23:24:40.184Z"
   },
   {
    "duration": 707,
    "start_time": "2023-02-25T23:24:40.655Z"
   },
   {
    "duration": 483,
    "start_time": "2023-02-25T23:26:47.204Z"
   },
   {
    "duration": 255,
    "start_time": "2023-02-25T23:27:33.413Z"
   },
   {
    "duration": 423,
    "start_time": "2023-02-25T23:27:55.706Z"
   },
   {
    "duration": 344,
    "start_time": "2023-02-25T23:28:07.413Z"
   },
   {
    "duration": 1551,
    "start_time": "2023-02-26T07:53:49.683Z"
   },
   {
    "duration": 94,
    "start_time": "2023-02-26T07:53:51.237Z"
   },
   {
    "duration": 27,
    "start_time": "2023-02-26T07:53:51.333Z"
   },
   {
    "duration": 305,
    "start_time": "2023-02-26T07:53:51.362Z"
   },
   {
    "duration": 14,
    "start_time": "2023-02-26T07:53:51.669Z"
   },
   {
    "duration": 5,
    "start_time": "2023-02-26T07:53:51.685Z"
   },
   {
    "duration": 37,
    "start_time": "2023-02-26T07:53:51.691Z"
   },
   {
    "duration": 55,
    "start_time": "2023-02-26T07:53:51.730Z"
   },
   {
    "duration": 46,
    "start_time": "2023-02-26T07:53:51.787Z"
   },
   {
    "duration": 620,
    "start_time": "2023-02-26T07:53:51.835Z"
   },
   {
    "duration": 51199,
    "start_time": "2023-02-26T07:53:52.457Z"
   },
   {
    "duration": 72,
    "start_time": "2023-02-26T07:54:43.658Z"
   },
   {
    "duration": 95,
    "start_time": "2023-02-26T07:54:43.733Z"
   },
   {
    "duration": 653,
    "start_time": "2023-02-26T07:54:43.831Z"
   },
   {
    "duration": 50257,
    "start_time": "2023-02-26T07:54:44.486Z"
   },
   {
    "duration": 88,
    "start_time": "2023-02-26T07:55:34.745Z"
   },
   {
    "duration": 101,
    "start_time": "2023-02-26T07:55:34.834Z"
   },
   {
    "duration": 736,
    "start_time": "2023-02-26T07:55:34.937Z"
   },
   {
    "duration": 68053,
    "start_time": "2023-02-26T07:55:35.674Z"
   },
   {
    "duration": 106,
    "start_time": "2023-02-26T07:56:43.729Z"
   },
   {
    "duration": 189,
    "start_time": "2023-02-26T07:56:43.837Z"
   },
   {
    "duration": 463,
    "start_time": "2023-02-26T07:56:44.028Z"
   },
   {
    "duration": 30406,
    "start_time": "2023-02-26T07:56:44.493Z"
   },
   {
    "duration": 37,
    "start_time": "2023-02-26T07:57:14.901Z"
   },
   {
    "duration": 626,
    "start_time": "2023-02-26T07:57:14.940Z"
   },
   {
    "duration": 275,
    "start_time": "2023-02-26T07:57:15.567Z"
   },
   {
    "duration": 427,
    "start_time": "2023-02-26T07:57:15.844Z"
   },
   {
    "duration": 701,
    "start_time": "2023-02-26T07:57:16.273Z"
   },
   {
    "duration": 385,
    "start_time": "2023-02-26T08:02:15.992Z"
   },
   {
    "duration": 399,
    "start_time": "2023-02-26T08:02:21.647Z"
   },
   {
    "duration": 361,
    "start_time": "2023-02-26T08:02:29.899Z"
   },
   {
    "duration": 777,
    "start_time": "2023-02-26T08:02:42.021Z"
   },
   {
    "duration": 626,
    "start_time": "2023-02-26T08:03:07.480Z"
   },
   {
    "duration": 555,
    "start_time": "2023-02-26T08:03:34.057Z"
   },
   {
    "duration": 287,
    "start_time": "2023-02-26T08:04:32.824Z"
   },
   {
    "duration": 297,
    "start_time": "2023-02-26T08:09:13.897Z"
   },
   {
    "duration": 281,
    "start_time": "2023-02-26T08:09:31.042Z"
   },
   {
    "duration": 297,
    "start_time": "2023-02-26T08:57:42.720Z"
   },
   {
    "duration": 47,
    "start_time": "2023-02-26T09:22:42.985Z"
   },
   {
    "duration": 613,
    "start_time": "2023-02-26T09:39:06.553Z"
   }
  ],
  "kernelspec": {
   "display_name": "Python 3 (ipykernel)",
   "language": "python",
   "name": "python3"
  },
  "language_info": {
   "codemirror_mode": {
    "name": "ipython",
    "version": 3
   },
   "file_extension": ".py",
   "mimetype": "text/x-python",
   "name": "python",
   "nbconvert_exporter": "python",
   "pygments_lexer": "ipython3",
   "version": "3.8.1"
  },
  "toc": {
   "base_numbering": 1,
   "nav_menu": {
    "height": "312px",
    "width": "247px"
   },
   "number_sections": true,
   "sideBar": false,
   "skip_h1_title": true,
   "title_cell": "Содержание",
   "title_sidebar": "Contents",
   "toc_cell": false,
   "toc_position": {
    "height": "100px",
    "left": "1091px",
    "top": "111.125px",
    "width": "186px"
   },
   "toc_section_display": true,
   "toc_window_display": false
  }
 },
 "nbformat": 4,
 "nbformat_minor": 2
}
